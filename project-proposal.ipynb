{
 "cells": [
  {
   "cell_type": "markdown",
   "id": "0b00a489-c961-41bf-9cd4-94c728beed8a",
   "metadata": {},
   "source": [
    "Each proposal should include the following sections:\n",
    "Title\n",
    "\n",
    "\n",
    "Introduction:\n",
    "\n",
    "- Provide some relevant background information on the topic so that someone unfamiliar with it will be prepared to understand the rest of your proposal\n",
    "    - **\"Heart disease is responsible for most deaths worldwide for both men and women of all races, accounting for about 1 in every 4 deaths.\" (Thomas 2020 - Healthline.com) Being such a major cause of death, usually through heart attacks, it would be very helpful if we could identify those with the condition before too many symptoms have a chance to manifest. Looking online, there are many identified risk factors, which include obesity, diabetes and high blood pressure, among other conditions and lifestyle habits. How can we be sure which of these risk factors significantly increase chances of heart disease, and by how much do they increase the risk?**\n",
    "    - source for stats: https://www.healthline.com/health/heart-disease/statistics#Who-is-at-risk?\n",
    "- Clearly state the question you will try to answer with your project\n",
    "     - **This data analysis project will build a classification model to answer the question: (our question here)**\n",
    "- Identify and describe the dataset that will be used to answer the question\n",
    "     - **The dataset we are using is a Heart Disease Data Set that contains information about a person's age, sex, other medical factors and their severity of heart disease diagnosis. There are 75 attributes in the data set, but we only used 14 of them that were relavant for our classification purposes. They are age, gender, chest pain type, resting blood pressure, choelestoral level, high fasting blood sugar, resting ecg, max heart rate, exercise induced angina, ST depression induced by exercise, slope of peak exercise ST segment, num blood vessels and thal. These variables, some categorical and some numerical, determine the severity of diagnosis of heart disease. The data is multivariate, meaning that some variables in the data set correspond to other variables in the data set.  **\n",
    "\n",
    "\n",
    "Preliminary exploratory data analysis:\n",
    "\n",
    "- Demonstrate that the dataset can be read from the web into R \n",
    "     - **DONE - chris**\n",
    "- Clean and wrangle your data into a tidy format\n",
    "     - **DONE - chris**\n",
    "- Using only training data, summarize the data in at least one table (this is exploratory data analysis). An example of a useful table could be one that reports the number of observations in each class, the means of the predictor variables you plan to use in your analysis and how many rows have missing data. \n",
    "     - **DONE, PEER REVIEW REQUIRED**\n",
    "- Using only training data, visualize the data with at least one plot relevant to the analysis you plan to do (this is exploratory data analysis). An example of a useful visualization could be one that compares the distributions of each of the predictor variables you plan to use in your analysis.\n",
    "    - **DONE, CAN BE DONE BETTER (DIFFERENT VARIABLES?)**\n",
    "\n",
    "\n",
    "Methods:\n",
    "\n",
    "- Explain how you will conduct either your data analysis and which variables/columns you will use. Note - you do not need to use all variables/columns that exist in the raw data set. In fact, that's often not a good idea. For each variable think: is this a useful variable for prediction?\n",
    "    - **See note by the third set of graphs - max heart rate seems to have a relationship with heart disease. We could use this + age, and maybe also apply the method for selecting variables used in the textbook? (I think its in chapter 5? maybe 6?) - chris**\n",
    "    - **it seems that age and max heart rate are the only variables that seem to be correlated with presence of heart disease, maybe we should use these**\n",
    "- Describe at least one way that you will visualize the results\n",
    "    - **NEED TO DO**\n",
    "\n",
    "\n",
    "Expected outcomes and significance:\n",
    "\n",
    "- What do you expect to find?\n",
    "    - **NEED TO DO**\n",
    "- What impact could such findings have?\n",
    "    - **NEED TO DO**\n",
    "- What future questions could this lead to?\n",
    "    - **NEED TO DO**\n",
    "    \n",
    "    \n",
    "    \n",
    "**LINK TO DATASET WEBSITE:** https://archive.ics.uci.edu/ml/datasets/Heart+Disease"
   ]
  },
  {
   "cell_type": "code",
   "execution_count": 1,
   "id": "012b094b-102d-45d5-ba86-6094f804a04a",
   "metadata": {},
   "outputs": [
    {
     "name": "stderr",
     "output_type": "stream",
     "text": [
      "── \u001b[1mAttaching packages\u001b[22m ─────────────────────────────────────── tidyverse 1.3.1 ──\n",
      "\n",
      "\u001b[32m✔\u001b[39m \u001b[34mggplot2\u001b[39m 3.3.6     \u001b[32m✔\u001b[39m \u001b[34mpurrr  \u001b[39m 0.3.4\n",
      "\u001b[32m✔\u001b[39m \u001b[34mtibble \u001b[39m 3.1.7     \u001b[32m✔\u001b[39m \u001b[34mdplyr  \u001b[39m 1.0.9\n",
      "\u001b[32m✔\u001b[39m \u001b[34mtidyr  \u001b[39m 1.2.0     \u001b[32m✔\u001b[39m \u001b[34mstringr\u001b[39m 1.4.0\n",
      "\u001b[32m✔\u001b[39m \u001b[34mreadr  \u001b[39m 2.1.2     \u001b[32m✔\u001b[39m \u001b[34mforcats\u001b[39m 0.5.1\n",
      "\n",
      "── \u001b[1mConflicts\u001b[22m ────────────────────────────────────────── tidyverse_conflicts() ──\n",
      "\u001b[31m✖\u001b[39m \u001b[34mdplyr\u001b[39m::\u001b[32mfilter()\u001b[39m masks \u001b[34mstats\u001b[39m::filter()\n",
      "\u001b[31m✖\u001b[39m \u001b[34mdplyr\u001b[39m::\u001b[32mlag()\u001b[39m    masks \u001b[34mstats\u001b[39m::lag()\n",
      "\n",
      "── \u001b[1mAttaching packages\u001b[22m ────────────────────────────────────── tidymodels 1.0.0 ──\n",
      "\n",
      "\u001b[32m✔\u001b[39m \u001b[34mbroom       \u001b[39m 1.0.0     \u001b[32m✔\u001b[39m \u001b[34mrsample     \u001b[39m 1.0.0\n",
      "\u001b[32m✔\u001b[39m \u001b[34mdials       \u001b[39m 1.0.0     \u001b[32m✔\u001b[39m \u001b[34mtune        \u001b[39m 1.0.0\n",
      "\u001b[32m✔\u001b[39m \u001b[34minfer       \u001b[39m 1.0.2     \u001b[32m✔\u001b[39m \u001b[34mworkflows   \u001b[39m 1.0.0\n",
      "\u001b[32m✔\u001b[39m \u001b[34mmodeldata   \u001b[39m 1.0.0     \u001b[32m✔\u001b[39m \u001b[34mworkflowsets\u001b[39m 1.0.0\n",
      "\u001b[32m✔\u001b[39m \u001b[34mparsnip     \u001b[39m 1.0.0     \u001b[32m✔\u001b[39m \u001b[34myardstick   \u001b[39m 1.0.0\n",
      "\u001b[32m✔\u001b[39m \u001b[34mrecipes     \u001b[39m 1.0.1     \n",
      "\n",
      "── \u001b[1mConflicts\u001b[22m ───────────────────────────────────────── tidymodels_conflicts() ──\n",
      "\u001b[31m✖\u001b[39m \u001b[34mscales\u001b[39m::\u001b[32mdiscard()\u001b[39m masks \u001b[34mpurrr\u001b[39m::discard()\n",
      "\u001b[31m✖\u001b[39m \u001b[34mdplyr\u001b[39m::\u001b[32mfilter()\u001b[39m   masks \u001b[34mstats\u001b[39m::filter()\n",
      "\u001b[31m✖\u001b[39m \u001b[34mrecipes\u001b[39m::\u001b[32mfixed()\u001b[39m  masks \u001b[34mstringr\u001b[39m::fixed()\n",
      "\u001b[31m✖\u001b[39m \u001b[34mdplyr\u001b[39m::\u001b[32mlag()\u001b[39m      masks \u001b[34mstats\u001b[39m::lag()\n",
      "\u001b[31m✖\u001b[39m \u001b[34myardstick\u001b[39m::\u001b[32mspec()\u001b[39m masks \u001b[34mreadr\u001b[39m::spec()\n",
      "\u001b[31m✖\u001b[39m \u001b[34mrecipes\u001b[39m::\u001b[32mstep()\u001b[39m   masks \u001b[34mstats\u001b[39m::step()\n",
      "\u001b[34m•\u001b[39m Search for functions across packages at \u001b[32mhttps://www.tidymodels.org/find/\u001b[39m\n",
      "\n"
     ]
    }
   ],
   "source": [
    "# config cell\n",
    "library(tidyverse)\n",
    "library(tidymodels)\n",
    "\n"
   ]
  },
  {
   "cell_type": "markdown",
   "id": "0f4358f9-67d1-4d5a-a743-0a9114192a99",
   "metadata": {},
   "source": [
    "Column Definitions:\n",
    "age: age in years\n",
    "\n",
    "\n",
    "sex: (1 = male; 0 = female)\n",
    "\n",
    "chest_pain_type: chest pain type \\\n",
    "-- Value 1: typical angina \\\n",
    "-- Value 2: atypical angina \\\n",
    "-- Value 3: non-anginal pain \\\n",
    "-- Value 4: asymptomatic\n",
    "\n",
    "resting_blood_pressure: resting blood pressure (in mm Hg on admission to the hospital) \n",
    "\n",
    "cholestoral_level_(mg/dl):   serum cholestoral in mg/dl\n",
    "\n",
    "high_fasting_blood_sugar: (fasting blood sugar > 120 mg/dl) (1 = true; 0 = false)\n",
    "\n",
    "resting_ecg_results: resting electrocardiographic results \\\n",
    "-- Value 0: normal \\\n",
    "-- Value 1: having ST-T wave abnormality (T wave inversions and/or ST elevation or depression of > 0.05 mV) \\\n",
    "-- Value 2: showing probable or definite left ventricular hypertrophy by Estes' criteria\n",
    "\n",
    "max_heart_rate: maximum heart rate achieved\n",
    "\n",
    "exercise_induced_angina: (1 = yes; 0 = no)\n",
    "\n",
    "ST_depression_induced_by_exercise: ST depression induced by exercise relative to rest\n",
    "\n",
    "slope_of_peak_exercise_ST_segment: \\\n",
    "-- Value 1: upsloping \\\n",
    "-- Value 2: flat \\\n",
    "-- Value 3: downsloping\n",
    "\n",
    "num_blood_vessels_colored: number of major vessels (0-3) colored by flourosopy\n",
    "\n",
    "thal: 3 = normal; 6 = fixed defect (no blood flow in some parts of heart); 7 = reversable defect (blood flow is present but abnormal)\n",
    "\n",
    "diagnosis: diagnosis of heart disease: 0-4, severity of diagnosis\n",
    "- note that website says that model was mostly used to simply determine presence of heart disease, not severity. See the additional column \"diagnosis simple\" which is 1 if the diagnosis is not zero (therefore simply indicating presence). I suspect this column may be easier to work with in our analysis"
   ]
  },
  {
   "cell_type": "code",
   "execution_count": 2,
   "id": "d7ae7942-eae4-4f56-adbf-2326b04d8de1",
   "metadata": {},
   "outputs": [
    {
     "name": "stderr",
     "output_type": "stream",
     "text": [
      "\u001b[1mRows: \u001b[22m\u001b[34m303\u001b[39m \u001b[1mColumns: \u001b[22m\u001b[34m14\u001b[39m\n",
      "\u001b[36m──\u001b[39m \u001b[1mColumn specification\u001b[22m \u001b[36m────────────────────────────────────────────────────────\u001b[39m\n",
      "\u001b[1mDelimiter:\u001b[22m \",\"\n",
      "\u001b[31mchr\u001b[39m  (2): num_blood_vessels_colored, thal\n",
      "\u001b[32mdbl\u001b[39m (12): age, sex, chest_pain_type, resting_blood_pressure, cholesterol_lev...\n",
      "\n",
      "\u001b[36mℹ\u001b[39m Use `spec()` to retrieve the full column specification for this data.\n",
      "\u001b[36mℹ\u001b[39m Specify the column types or set `show_col_types = FALSE` to quiet this message.\n"
     ]
    }
   ],
   "source": [
    "#load data and configure categorical columns to factor\n",
    "url <- \"https://archive.ics.uci.edu/ml/machine-learning-databases/heart-disease/processed.cleveland.data\"\n",
    "heart_disease_data <- read_csv(url, \n",
    "                               col_names=c(\"age\",\n",
    "                                           \"sex\",\n",
    "                                           \"chest_pain_type\",\n",
    "                                           \"resting_blood_pressure\",\n",
    "                                           \"cholesterol_level\",\n",
    "                                           \"high_fasting_blood_sugar\",\n",
    "                                           \"resting_ecg_results\",\n",
    "                                           \"max_heart_rate\",\n",
    "                                           \"exercise_induced_angina\",\n",
    "                                           \"ST_depression_induced_by_exercise\",\n",
    "                                           \"slope_of_peak_exercise_ST_segment\",\n",
    "                                           \"num_blood_vessels_colored\",\n",
    "                                           \"thal\",\n",
    "                                           \"diagnosis_old\")) |>\n",
    "                        mutate(sex = as_factor(sex)) |>\n",
    "                        mutate(chest_pain_type = as_factor(chest_pain_type)) |>\n",
    "                        mutate(high_fasting_blood_sugar = as_factor(high_fasting_blood_sugar)) |>\n",
    "                        mutate(resting_ecg_results = as_factor(resting_ecg_results)) |>\n",
    "                        mutate(exercise_induced_angina = as_factor(exercise_induced_angina)) |>\n",
    "                        mutate(slope_of_peak_exercise_ST_segment = as_factor(slope_of_peak_exercise_ST_segment)) |>\n",
    "                        mutate(num_blood_vessels_colored = as_factor(num_blood_vessels_colored)) |>\n",
    "                        mutate(thal = as_factor(thal))\n",
    "\n",
    "\n",
    "#adding another diagnosis column. On the dataset website, they note that most studies (including the ones on the Cleveland dataset\n",
    "#which we are using) only distinguished between presence vs. absence of heart disease, not looking at the categories of severity\n",
    "#(1 to 4 in the diagnosis_old column). To work with this, we add another column, which simply has 1 if heart disease of any severity\n",
    "#is present, else it is 0. This new column is named \"diagnosis\".\n",
    "heart_disease_data <- heart_disease_data |>\n",
    "                mutate(diagnosis= ifelse(diagnosis_old>0,1,0)) |>\n",
    "                mutate(diagnosis_old = as_factor(diagnosis_old)) |>\n",
    "                mutate(diagnosis = as_factor(diagnosis))\n",
    "\n",
    "\n",
    "                                                   \n",
    "                                                   "
   ]
  },
  {
   "cell_type": "code",
   "execution_count": 3,
   "id": "1c268fef-92dc-4344-b57d-29e84d83202e",
   "metadata": {},
   "outputs": [],
   "source": [
    "#making training split\n",
    "heart_disease_selected <- heart_disease_data |>\n",
    "                        select(age, resting_blood_pressure, cholesterol_level, max_heart_rate, diagnosis)\n",
    "\n",
    "heart_split <- initial_split(heart_disease_selected, prop = 0.75, strara = diagnosis)\n",
    "heart_training <- training(heart_split)\n",
    "heart_testing <- testing(heart_split)\n",
    "#note! only use training data for plots\n"
   ]
  },
  {
   "cell_type": "code",
   "execution_count": 6,
   "id": "a26825fc-6ee6-43c7-b8bf-c9f66ba86ab5",
   "metadata": {},
   "outputs": [
    {
     "data": {
      "text/html": [
       "<table class=\"dataframe\">\n",
       "<caption>A tibble: 1 × 1</caption>\n",
       "<thead>\n",
       "\t<tr><th scope=col>min(cholesterol_level)</th></tr>\n",
       "\t<tr><th scope=col>&lt;dbl&gt;</th></tr>\n",
       "</thead>\n",
       "<tbody>\n",
       "\t<tr><td>126</td></tr>\n",
       "</tbody>\n",
       "</table>\n"
      ],
      "text/latex": [
       "A tibble: 1 × 1\n",
       "\\begin{tabular}{l}\n",
       " min(cholesterol\\_level)\\\\\n",
       " <dbl>\\\\\n",
       "\\hline\n",
       "\t 126\\\\\n",
       "\\end{tabular}\n"
      ],
      "text/markdown": [
       "\n",
       "A tibble: 1 × 1\n",
       "\n",
       "| min(cholesterol_level) &lt;dbl&gt; |\n",
       "|---|\n",
       "| 126 |\n",
       "\n"
      ],
      "text/plain": [
       "  min(cholesterol_level)\n",
       "1 126                   "
      ]
     },
     "metadata": {},
     "output_type": "display_data"
    },
    {
     "data": {
      "text/html": [
       "<table class=\"dataframe\">\n",
       "<caption>A tibble: 1 × 1</caption>\n",
       "<thead>\n",
       "\t<tr><th scope=col>max(cholesterol_level)</th></tr>\n",
       "\t<tr><th scope=col>&lt;dbl&gt;</th></tr>\n",
       "</thead>\n",
       "<tbody>\n",
       "\t<tr><td>564</td></tr>\n",
       "</tbody>\n",
       "</table>\n"
      ],
      "text/latex": [
       "A tibble: 1 × 1\n",
       "\\begin{tabular}{l}\n",
       " max(cholesterol\\_level)\\\\\n",
       " <dbl>\\\\\n",
       "\\hline\n",
       "\t 564\\\\\n",
       "\\end{tabular}\n"
      ],
      "text/markdown": [
       "\n",
       "A tibble: 1 × 1\n",
       "\n",
       "| max(cholesterol_level) &lt;dbl&gt; |\n",
       "|---|\n",
       "| 564 |\n",
       "\n"
      ],
      "text/plain": [
       "  max(cholesterol_level)\n",
       "1 564                   "
      ]
     },
     "metadata": {},
     "output_type": "display_data"
    },
    {
     "data": {
      "text/html": [
       "<table class=\"dataframe\">\n",
       "<caption>A tibble: 1 × 2</caption>\n",
       "<thead>\n",
       "\t<tr><th scope=col>min(max_heart_rate)</th><th scope=col>max(max_heart_rate)</th></tr>\n",
       "\t<tr><th scope=col>&lt;dbl&gt;</th><th scope=col>&lt;dbl&gt;</th></tr>\n",
       "</thead>\n",
       "<tbody>\n",
       "\t<tr><td>88</td><td>202</td></tr>\n",
       "</tbody>\n",
       "</table>\n"
      ],
      "text/latex": [
       "A tibble: 1 × 2\n",
       "\\begin{tabular}{ll}\n",
       " min(max\\_heart\\_rate) & max(max\\_heart\\_rate)\\\\\n",
       " <dbl> & <dbl>\\\\\n",
       "\\hline\n",
       "\t 88 & 202\\\\\n",
       "\\end{tabular}\n"
      ],
      "text/markdown": [
       "\n",
       "A tibble: 1 × 2\n",
       "\n",
       "| min(max_heart_rate) &lt;dbl&gt; | max(max_heart_rate) &lt;dbl&gt; |\n",
       "|---|---|\n",
       "| 88 | 202 |\n",
       "\n"
      ],
      "text/plain": [
       "  min(max_heart_rate) max(max_heart_rate)\n",
       "1 88                  202                "
      ]
     },
     "metadata": {},
     "output_type": "display_data"
    },
    {
     "data": {
      "text/html": [
       "<table class=\"dataframe\">\n",
       "<caption>A tibble: 1 × 1</caption>\n",
       "<thead>\n",
       "\t<tr><th scope=col>max(max_heart_rate)</th></tr>\n",
       "\t<tr><th scope=col>&lt;dbl&gt;</th></tr>\n",
       "</thead>\n",
       "<tbody>\n",
       "\t<tr><td>202</td></tr>\n",
       "</tbody>\n",
       "</table>\n"
      ],
      "text/latex": [
       "A tibble: 1 × 1\n",
       "\\begin{tabular}{l}\n",
       " max(max\\_heart\\_rate)\\\\\n",
       " <dbl>\\\\\n",
       "\\hline\n",
       "\t 202\\\\\n",
       "\\end{tabular}\n"
      ],
      "text/markdown": [
       "\n",
       "A tibble: 1 × 1\n",
       "\n",
       "| max(max_heart_rate) &lt;dbl&gt; |\n",
       "|---|\n",
       "| 202 |\n",
       "\n"
      ],
      "text/plain": [
       "  max(max_heart_rate)\n",
       "1 202                "
      ]
     },
     "metadata": {},
     "output_type": "display_data"
    }
   ],
   "source": [
    "#heart_training\n",
    "ht_min <- heart_training |>\n",
    "    summarize(min(cholesterol_level))\n",
    "ht_max <- heart_training |>\n",
    "    summarize(max(cholesterol_level))\n",
    "ht_min\n",
    "ht_max\n",
    "\n",
    "hr_min <- heart_training |>\n",
    "    summarize(min(max_heart_rate), max(max_heart_rate))\n",
    "hr_max <- heart_training |>\n",
    "    summarize(max(max_heart_rate))\n",
    "hr_min\n",
    "hr_max\n"
   ]
  },
  {
   "cell_type": "code",
   "execution_count": 15,
   "id": "e78a0136-181e-4dd8-a153-348f33c82f70",
   "metadata": {},
   "outputs": [
    {
     "data": {
      "text/html": [
       "<table class=\"dataframe\">\n",
       "<caption>A tibble: 2 × 2</caption>\n",
       "<thead>\n",
       "\t<tr><th scope=col>diagnosis</th><th scope=col>n</th></tr>\n",
       "\t<tr><th scope=col>&lt;fct&gt;</th><th scope=col>&lt;int&gt;</th></tr>\n",
       "</thead>\n",
       "<tbody>\n",
       "\t<tr><td>0</td><td>125</td></tr>\n",
       "\t<tr><td>1</td><td>102</td></tr>\n",
       "</tbody>\n",
       "</table>\n"
      ],
      "text/latex": [
       "A tibble: 2 × 2\n",
       "\\begin{tabular}{ll}\n",
       " diagnosis & n\\\\\n",
       " <fct> & <int>\\\\\n",
       "\\hline\n",
       "\t 0 & 125\\\\\n",
       "\t 1 & 102\\\\\n",
       "\\end{tabular}\n"
      ],
      "text/markdown": [
       "\n",
       "A tibble: 2 × 2\n",
       "\n",
       "| diagnosis &lt;fct&gt; | n &lt;int&gt; |\n",
       "|---|---|\n",
       "| 0 | 125 |\n",
       "| 1 | 102 |\n",
       "\n"
      ],
      "text/plain": [
       "  diagnosis n  \n",
       "1 0         125\n",
       "2 1         102"
      ]
     },
     "metadata": {},
     "output_type": "display_data"
    },
    {
     "data": {
      "text/html": [
       "<table class=\"dataframe\">\n",
       "<caption>A tibble: 2 × 2</caption>\n",
       "<thead>\n",
       "\t<tr><th scope=col>diagnosis</th><th scope=col>proportion</th></tr>\n",
       "\t<tr><th scope=col>&lt;fct&gt;</th><th scope=col>&lt;dbl&gt;</th></tr>\n",
       "</thead>\n",
       "<tbody>\n",
       "\t<tr><td>0</td><td>55.06608</td></tr>\n",
       "\t<tr><td>1</td><td>44.93392</td></tr>\n",
       "</tbody>\n",
       "</table>\n"
      ],
      "text/latex": [
       "A tibble: 2 × 2\n",
       "\\begin{tabular}{ll}\n",
       " diagnosis & proportion\\\\\n",
       " <fct> & <dbl>\\\\\n",
       "\\hline\n",
       "\t 0 & 55.06608\\\\\n",
       "\t 1 & 44.93392\\\\\n",
       "\\end{tabular}\n"
      ],
      "text/markdown": [
       "\n",
       "A tibble: 2 × 2\n",
       "\n",
       "| diagnosis &lt;fct&gt; | proportion &lt;dbl&gt; |\n",
       "|---|---|\n",
       "| 0 | 55.06608 |\n",
       "| 1 | 44.93392 |\n",
       "\n"
      ],
      "text/plain": [
       "  diagnosis proportion\n",
       "1 0         55.06608  \n",
       "2 1         44.93392  "
      ]
     },
     "metadata": {},
     "output_type": "display_data"
    },
    {
     "data": {
      "text/html": [
       "<table class=\"dataframe\">\n",
       "<caption>A tibble: 2 × 5</caption>\n",
       "<thead>\n",
       "\t<tr><th scope=col>diagnosis</th><th scope=col>mean_age</th><th scope=col>mean_heart_rate</th><th scope=col>mean_cholesterol_level</th><th scope=col>mean_blood_pressure</th></tr>\n",
       "\t<tr><th scope=col>&lt;fct&gt;</th><th scope=col>&lt;dbl&gt;</th><th scope=col>&lt;dbl&gt;</th><th scope=col>&lt;dbl&gt;</th><th scope=col>&lt;dbl&gt;</th></tr>\n",
       "</thead>\n",
       "<tbody>\n",
       "\t<tr><td>0</td><td>53.05600</td><td>158.4880</td><td>242.216</td><td>129.1440</td></tr>\n",
       "\t<tr><td>1</td><td>56.68627</td><td>140.4804</td><td>252.098</td><td>135.8137</td></tr>\n",
       "</tbody>\n",
       "</table>\n"
      ],
      "text/latex": [
       "A tibble: 2 × 5\n",
       "\\begin{tabular}{lllll}\n",
       " diagnosis & mean\\_age & mean\\_heart\\_rate & mean\\_cholesterol\\_level & mean\\_blood\\_pressure\\\\\n",
       " <fct> & <dbl> & <dbl> & <dbl> & <dbl>\\\\\n",
       "\\hline\n",
       "\t 0 & 53.05600 & 158.4880 & 242.216 & 129.1440\\\\\n",
       "\t 1 & 56.68627 & 140.4804 & 252.098 & 135.8137\\\\\n",
       "\\end{tabular}\n"
      ],
      "text/markdown": [
       "\n",
       "A tibble: 2 × 5\n",
       "\n",
       "| diagnosis &lt;fct&gt; | mean_age &lt;dbl&gt; | mean_heart_rate &lt;dbl&gt; | mean_cholesterol_level &lt;dbl&gt; | mean_blood_pressure &lt;dbl&gt; |\n",
       "|---|---|---|---|---|\n",
       "| 0 | 53.05600 | 158.4880 | 242.216 | 129.1440 |\n",
       "| 1 | 56.68627 | 140.4804 | 252.098 | 135.8137 |\n",
       "\n"
      ],
      "text/plain": [
       "  diagnosis mean_age mean_heart_rate mean_cholesterol_level mean_blood_pressure\n",
       "1 0         53.05600 158.4880        242.216                129.1440           \n",
       "2 1         56.68627 140.4804        252.098                135.8137           "
      ]
     },
     "metadata": {},
     "output_type": "display_data"
    },
    {
     "data": {
      "text/html": [
       "<table class=\"dataframe\">\n",
       "<caption>A tibble: 8 × 3</caption>\n",
       "<thead>\n",
       "\t<tr><th scope=col>diagnosis</th><th scope=col>category</th><th scope=col>mean value</th></tr>\n",
       "\t<tr><th scope=col>&lt;fct&gt;</th><th scope=col>&lt;chr&gt;</th><th scope=col>&lt;dbl&gt;</th></tr>\n",
       "</thead>\n",
       "<tbody>\n",
       "\t<tr><td>0</td><td>mean_age              </td><td> 53.05600</td></tr>\n",
       "\t<tr><td>0</td><td>mean_heart_rate       </td><td>158.48800</td></tr>\n",
       "\t<tr><td>0</td><td>mean_cholesterol_level</td><td>242.21600</td></tr>\n",
       "\t<tr><td>0</td><td>mean_blood_pressure   </td><td>129.14400</td></tr>\n",
       "\t<tr><td>1</td><td>mean_age              </td><td> 56.68627</td></tr>\n",
       "\t<tr><td>1</td><td>mean_heart_rate       </td><td>140.48039</td></tr>\n",
       "\t<tr><td>1</td><td>mean_cholesterol_level</td><td>252.09804</td></tr>\n",
       "\t<tr><td>1</td><td>mean_blood_pressure   </td><td>135.81373</td></tr>\n",
       "</tbody>\n",
       "</table>\n"
      ],
      "text/latex": [
       "A tibble: 8 × 3\n",
       "\\begin{tabular}{lll}\n",
       " diagnosis & category & mean value\\\\\n",
       " <fct> & <chr> & <dbl>\\\\\n",
       "\\hline\n",
       "\t 0 & mean\\_age               &  53.05600\\\\\n",
       "\t 0 & mean\\_heart\\_rate        & 158.48800\\\\\n",
       "\t 0 & mean\\_cholesterol\\_level & 242.21600\\\\\n",
       "\t 0 & mean\\_blood\\_pressure    & 129.14400\\\\\n",
       "\t 1 & mean\\_age               &  56.68627\\\\\n",
       "\t 1 & mean\\_heart\\_rate        & 140.48039\\\\\n",
       "\t 1 & mean\\_cholesterol\\_level & 252.09804\\\\\n",
       "\t 1 & mean\\_blood\\_pressure    & 135.81373\\\\\n",
       "\\end{tabular}\n"
      ],
      "text/markdown": [
       "\n",
       "A tibble: 8 × 3\n",
       "\n",
       "| diagnosis &lt;fct&gt; | category &lt;chr&gt; | mean value &lt;dbl&gt; |\n",
       "|---|---|---|\n",
       "| 0 | mean_age               |  53.05600 |\n",
       "| 0 | mean_heart_rate        | 158.48800 |\n",
       "| 0 | mean_cholesterol_level | 242.21600 |\n",
       "| 0 | mean_blood_pressure    | 129.14400 |\n",
       "| 1 | mean_age               |  56.68627 |\n",
       "| 1 | mean_heart_rate        | 140.48039 |\n",
       "| 1 | mean_cholesterol_level | 252.09804 |\n",
       "| 1 | mean_blood_pressure    | 135.81373 |\n",
       "\n"
      ],
      "text/plain": [
       "  diagnosis category               mean value\n",
       "1 0         mean_age                53.05600 \n",
       "2 0         mean_heart_rate        158.48800 \n",
       "3 0         mean_cholesterol_level 242.21600 \n",
       "4 0         mean_blood_pressure    129.14400 \n",
       "5 1         mean_age                56.68627 \n",
       "6 1         mean_heart_rate        140.48039 \n",
       "7 1         mean_cholesterol_level 252.09804 \n",
       "8 1         mean_blood_pressure    135.81373 "
      ]
     },
     "metadata": {},
     "output_type": "display_data"
    },
    {
     "data": {
      "text/html": [
       "<table class=\"dataframe\">\n",
       "<caption>A tibble: 4 × 3</caption>\n",
       "<thead>\n",
       "\t<tr><th scope=col>category</th><th scope=col>0</th><th scope=col>1</th></tr>\n",
       "\t<tr><th scope=col>&lt;chr&gt;</th><th scope=col>&lt;dbl&gt;</th><th scope=col>&lt;dbl&gt;</th></tr>\n",
       "</thead>\n",
       "<tbody>\n",
       "\t<tr><td>mean_age              </td><td> 53.056</td><td> 56.68627</td></tr>\n",
       "\t<tr><td>mean_heart_rate       </td><td>158.488</td><td>140.48039</td></tr>\n",
       "\t<tr><td>mean_cholesterol_level</td><td>242.216</td><td>252.09804</td></tr>\n",
       "\t<tr><td>mean_blood_pressure   </td><td>129.144</td><td>135.81373</td></tr>\n",
       "</tbody>\n",
       "</table>\n"
      ],
      "text/latex": [
       "A tibble: 4 × 3\n",
       "\\begin{tabular}{lll}\n",
       " category & 0 & 1\\\\\n",
       " <chr> & <dbl> & <dbl>\\\\\n",
       "\\hline\n",
       "\t mean\\_age               &  53.056 &  56.68627\\\\\n",
       "\t mean\\_heart\\_rate        & 158.488 & 140.48039\\\\\n",
       "\t mean\\_cholesterol\\_level & 242.216 & 252.09804\\\\\n",
       "\t mean\\_blood\\_pressure    & 129.144 & 135.81373\\\\\n",
       "\\end{tabular}\n"
      ],
      "text/markdown": [
       "\n",
       "A tibble: 4 × 3\n",
       "\n",
       "| category &lt;chr&gt; | 0 &lt;dbl&gt; | 1 &lt;dbl&gt; |\n",
       "|---|---|---|\n",
       "| mean_age               |  53.056 |  56.68627 |\n",
       "| mean_heart_rate        | 158.488 | 140.48039 |\n",
       "| mean_cholesterol_level | 242.216 | 252.09804 |\n",
       "| mean_blood_pressure    | 129.144 | 135.81373 |\n",
       "\n"
      ],
      "text/plain": [
       "  category               0       1        \n",
       "1 mean_age                53.056  56.68627\n",
       "2 mean_heart_rate        158.488 140.48039\n",
       "3 mean_cholesterol_level 242.216 252.09804\n",
       "4 mean_blood_pressure    129.144 135.81373"
      ]
     },
     "metadata": {},
     "output_type": "display_data"
    },
    {
     "name": "stderr",
     "output_type": "stream",
     "text": [
      "Don't know how to automatically pick scale for object of type function. Defaulting to continuous.\n",
      "\n",
      "ERROR while rich displaying an object: \u001b[1m\u001b[33mError\u001b[39m in \u001b[1m\u001b[1m`f()`:\u001b[22m\n",
      "\u001b[33m!\u001b[39m Aesthetics must be valid data columns. Problematic aesthetic(s): y = count. \n",
      "Did you mistype the name of a data column or forget to add after_stat()?\n",
      "\n",
      "Traceback:\n",
      "1. tryCatch(withCallingHandlers({\n",
      " .     if (!mime %in% names(repr::mime2repr)) \n",
      " .         stop(\"No repr_* for mimetype \", mime, \" in repr::mime2repr\")\n",
      " .     rpr <- repr::mime2repr[[mime]](obj)\n",
      " .     if (is.null(rpr)) \n",
      " .         return(NULL)\n",
      " .     prepare_content(is.raw(rpr), rpr)\n",
      " . }, error = error_handler), error = outer_handler)\n",
      "2. tryCatchList(expr, classes, parentenv, handlers)\n",
      "3. tryCatchOne(expr, names, parentenv, handlers[[1L]])\n",
      "4. doTryCatch(return(expr), name, parentenv, handler)\n",
      "5. withCallingHandlers({\n",
      " .     if (!mime %in% names(repr::mime2repr)) \n",
      " .         stop(\"No repr_* for mimetype \", mime, \" in repr::mime2repr\")\n",
      " .     rpr <- repr::mime2repr[[mime]](obj)\n",
      " .     if (is.null(rpr)) \n",
      " .         return(NULL)\n",
      " .     prepare_content(is.raw(rpr), rpr)\n",
      " . }, error = error_handler)\n",
      "6. repr::mime2repr[[mime]](obj)\n",
      "7. repr_text.default(obj)\n",
      "8. paste(capture.output(print(obj)), collapse = \"\\n\")\n",
      "9. capture.output(print(obj))\n",
      "10. withVisible(...elt(i))\n",
      "11. print(obj)\n",
      "12. print.ggplot(obj)\n",
      "13. ggplot_build(x)\n",
      "14. ggplot_build.ggplot(x)\n",
      "15. by_layer(function(l, d) l$compute_aesthetics(d, plot))\n",
      "16. f(l = layers[[i]], d = data[[i]])\n",
      "17. l$compute_aesthetics(d, plot)\n",
      "18. f(..., self = self)\n",
      "19. abort(msg)\n",
      "20. signal_abort(cnd, .file)\n"
     ]
    },
    {
     "data": {
      "text/html": [
       "<table class=\"dataframe\">\n",
       "<caption>A tibble: 2 × 2</caption>\n",
       "<thead>\n",
       "\t<tr><th scope=col>diagnosis</th><th scope=col>proportion</th></tr>\n",
       "\t<tr><th scope=col>&lt;fct&gt;</th><th scope=col>&lt;dbl&gt;</th></tr>\n",
       "</thead>\n",
       "<tbody>\n",
       "\t<tr><td>0</td><td>55.06608</td></tr>\n",
       "\t<tr><td>1</td><td>44.93392</td></tr>\n",
       "</tbody>\n",
       "</table>\n"
      ],
      "text/latex": [
       "A tibble: 2 × 2\n",
       "\\begin{tabular}{ll}\n",
       " diagnosis & proportion\\\\\n",
       " <fct> & <dbl>\\\\\n",
       "\\hline\n",
       "\t 0 & 55.06608\\\\\n",
       "\t 1 & 44.93392\\\\\n",
       "\\end{tabular}\n"
      ],
      "text/markdown": [
       "\n",
       "A tibble: 2 × 2\n",
       "\n",
       "| diagnosis &lt;fct&gt; | proportion &lt;dbl&gt; |\n",
       "|---|---|\n",
       "| 0 | 55.06608 |\n",
       "| 1 | 44.93392 |\n",
       "\n"
      ],
      "text/plain": [
       "  diagnosis proportion\n",
       "1 0         55.06608  \n",
       "2 1         44.93392  "
      ]
     },
     "metadata": {},
     "output_type": "display_data"
    },
    {
     "data": {
      "image/png": "[encoded data removed]",
      "text/plain": [
       "plot without title"
      ]
     },
     "metadata": {
      "image/png": {
       "height": 300,
       "width": 540
      }
     },
     "output_type": "display_data"
    }
   ],
   "source": [
    "diagnosis_count <- heart_training |>\n",
    "    group_by(diagnosis) |>\n",
    "    summarize(n = n()) |>\n",
    "    arrange(desc(n))\n",
    "diagnosis_count\n",
    "\n",
    "\n",
    "# convert to percent\n",
    "\n",
    "diagnosis_count <- heart_training |>\n",
    "    group_by(diagnosis) |>\n",
    "    summarize(proportion = n()) |>\n",
    "    mutate(proportion=proportion * (100/227)) |>\n",
    "    arrange(desc(proportion))\n",
    "diagnosis_count\n",
    "\n",
    "\n",
    "mean_diagnosis <- heart_training |>\n",
    "    group_by(diagnosis) |>\n",
    "    summarize(mean_age = mean(age, na.rm = TRUE), \n",
    "              mean_heart_rate = mean(max_heart_rate, na.rm = TRUE), \n",
    "              mean_cholesterol_level = mean(cholesterol_level, na.rm = TRUE),\n",
    "              mean_blood_pressure = mean(resting_blood_pressure, na.rm = TRUE))\n",
    "mean_diagnosis\n",
    "\n",
    "mean_diagnosis_tidy <- pivot_longer(mean_diagnosis,\n",
    "                                    cols = mean_age:mean_blood_pressure,\n",
    "                                    names_to = \"category\",\n",
    "                                    values_to = \"mean value\")\n",
    "\n",
    "mean_diagnosis_tidy\n",
    "\n",
    "mean_diagnosis_tidy2 <- pivot_wider(mean_diagnosis_tidy,\n",
    "                                \n",
    "                                    names_from = \"diagnosis\",\n",
    "                                    values_from = \"mean value\")\n",
    "mean_diagnosis_tidy2\n",
    "#heart_rate_histogram <- ggplot(heart_training, aes(x = max_heart_rate)) +\n",
    "#    geom_histogram()\n",
    "#heart_rate_histogram\n",
    "#the median is a \"normal\" heart rate\n",
    "\n",
    "\n",
    "#heart_rate_median <- heart_training |>\n",
    "#    arrange(desc(max_heart_rate)) |>\n",
    "#    slice(113)\n",
    "#heart_rate_median # is 152\n",
    "#x away from the median is still considered normal \n",
    "\n",
    "training_plot1 <- ggplot(diagnosis_count, aes(x = diagnosis, y = count)) +\n",
    "    geom_bar(stat = \"identity\") +\n",
    "\n",
    "    theme(text = element_text(size = 16))\n",
    "training_plot1\n",
    "\n",
    "diagnosis_count"
   ]
  },
  {
   "cell_type": "code",
   "execution_count": 13,
   "id": "e903ebe4-7242-49d9-8ed2-4946e3646f76",
   "metadata": {},
   "outputs": [
    {
     "data": {
      "image/png": "[encoded data removed]",
      "text/plain": [
       "plot without title"
      ]
     },
     "metadata": {
      "image/png": {
       "height": 300,
       "width": 540
      }
     },
     "output_type": "display_data"
    }
   ],
   "source": [
    "options(repr.plot.width=9,repr.plot.height=5)\n",
    "\n",
    "heart_plot <- heart_training |>\n",
    "            ggplot(aes(x=age,y=max_heart_rate,color=diagnosis)) +\n",
    "            geom_point() +\n",
    "            labs(x=\"Age\",\n",
    "                 y=\"Max Heart Rate\",\n",
    "                 color=\"Diagnosis (0 is negative)\")\n",
    "heart_plot\n"
   ]
  },
  {
   "cell_type": "markdown",
   "id": "be49f2d3-1024-41af-b32f-34ebbf954cbc",
   "metadata": {},
   "source": [
    "this plot shows max heart rate vs age, with coloring for diagnosis\n"
   ]
  },
  {
   "cell_type": "code",
   "execution_count": null,
   "id": "1c933857-5c19-4b33-8696-678e534ee232",
   "metadata": {},
   "outputs": [],
   "source": [
    "bp_plot_simple <- heart_disease_data |>\n",
    "            ggplot(aes(x=age,y=resting_blood_pressure,color=diagnosis)) +\n",
    "            geom_point() +\n",
    "            labs(x=\"Age\",\n",
    "                 y=\"Resting Blood Pressure\",\n",
    "                 color=\"Diagnosis (0 is negative)\")\n",
    "\n",
    "bp_plot_simple"
   ]
  },
  {
   "cell_type": "markdown",
   "id": "dee85700-8327-4017-b0ed-b89d13924f9e",
   "metadata": {},
   "source": [
    "blood pressure vs age\n"
   ]
  },
  {
   "cell_type": "code",
   "execution_count": null,
   "id": "7fed0327-cf79-4dac-bbb7-a3e3dd4df76e",
   "metadata": {},
   "outputs": [],
   "source": [
    "\n",
    "bphr_plot_simple <- heart_disease_data |>\n",
    "            ggplot(aes(x=max_heart_rate,y=resting_blood_pressure,color=diagnosis)) +\n",
    "            geom_point() +\n",
    "            labs(x=\"Max Heart Rate\",\n",
    "                 y=\"Resting Blood Pressure\",\n",
    "                 color=\"Diagnosis (0 is negative)\")\n",
    "\n",
    "bphr_plot_simple"
   ]
  },
  {
   "cell_type": "markdown",
   "id": "73169ce5-8df1-4c5d-bc6e-866bccc7da1d",
   "metadata": {},
   "source": [
    "here, finally, I would say there seems to be some info. Namely, that a higher max heart rate seems to correlate with a negative diagnosis, and a lower mhr/ higher blood pressure seems to correlate with a positive diagnosis. This seems like a useful plot for our proposal."
   ]
  },
  {
   "cell_type": "code",
   "execution_count": null,
   "id": "3e1d0386-a15e-4503-88aa-69ce3e7152bc",
   "metadata": {},
   "outputs": [],
   "source": [
    "options(repr.plot.width=9,repr.plot.height=5)\n",
    "\n",
    "\n",
    "cholesterol_plot_simple <- heart_disease_data |>\n",
    "            ggplot(aes(x=max_heart_rate,y=cholesterol_level,color=diagnosis)) +\n",
    "            geom_point() +\n",
    "            labs(x=\"Max Heart Rate\",\n",
    "                 y=\"Cholesterol Level\",\n",
    "                 color=\"Diagnosis (0 is negative)\")\n",
    "\n",
    "cholesterol_plot_simple"
   ]
  },
  {
   "cell_type": "markdown",
   "id": "497040bb-5005-4ecd-a905-44dd208bef97",
   "metadata": {},
   "source": [
    "Max Heart Rate vs Cholestoral Level"
   ]
  },
  {
   "cell_type": "code",
   "execution_count": null,
   "id": "e242a359-2700-43c8-a646-63f4604dab15",
   "metadata": {},
   "outputs": [],
   "source": [
    "age_distribution_plot <- ggplot(heart_training, aes(x=age, color = diagnosis)) +\n",
    "    geom_histogram(fill=\"white\", alpha=0.5, position=\"identity\") +\n",
    "    labs(x= \"Age\", color = \"Diagnosis\") +\n",
    "    ggtitle(\"Distribution of Age for Individual with/without Heart Disease\")\n",
    "age_distribution_plot"
   ]
  },
  {
   "cell_type": "code",
   "execution_count": null,
   "id": "fe24cf2f-198f-4e33-b54a-f7de205ddab1",
   "metadata": {},
   "outputs": [],
   "source": [
    "hr_distribution_plot <- ggplot(heart_training, aes(x=max_heart_rate, color = diagnosis)) +\n",
    "    geom_histogram(fill=\"white\", alpha=0.5, position=\"identity\") +\n",
    "    labs(x= \"Maximum Heart Rate\", color = \"Diagnosis\") +\n",
    "    ggtitle(\"Distribution of Max Heart Rate for Individual with/without Heart Disease\")\n",
    "hr_distribution_plot"
   ]
  },
  {
   "cell_type": "code",
   "execution_count": null,
   "id": "f9fb6531-eb61-4f93-951e-07a47489e7cc",
   "metadata": {},
   "outputs": [],
   "source": [
    "bp_distribution_plot <- ggplot(heart_training, aes(x=resting_blood_pressure, color = diagnosis)) +\n",
    "    geom_histogram(fill=\"white\", alpha=0.5, position=\"identity\") +\n",
    "    labs(x= \"Resting Blood Pressure\", color = \"Diagnosis\") +\n",
    "    ggtitle(\"Distribution of Resting Blood Pressure for Individual with/without Heart Disease\")\n",
    "bp_distribution_plot"
   ]
  },
  {
   "cell_type": "code",
   "execution_count": null,
   "id": "3a8facb0-341f-4428-8254-18579272bd4c",
   "metadata": {},
   "outputs": [],
   "source": [
    "chol_distribution_plot <- ggplot(heart_training, aes(x=cholesterol_level, color = diagnosis)) +\n",
    "    geom_histogram(fill=\"white\", alpha=0.5, position=\"identity\") +\n",
    "    labs(x= \"Cholesterol Level\", color = \"Diagnosis\") +\n",
    "    ggtitle(\"Distribution of Cholesterol Level for Individual with/without Heart Disease\")\n",
    "chol_distribution_plot"
   ]
  },
  {
   "cell_type": "code",
   "execution_count": null,
   "id": "bca4eef5-1e19-4b9b-abfe-aa515d66112a",
   "metadata": {},
   "outputs": [],
   "source": []
  }
 ],
 "metadata": {
  "kernelspec": {
   "display_name": "R",
   "language": "R",
   "name": "ir"
  },
  "language_info": {
   "codemirror_mode": "r",
   "file_extension": ".r",
   "mimetype": "text/x-r-source",
   "name": "R",
   "pygments_lexer": "r",
   "version": "4.1.3"
  }
 },
 "nbformat": 4,
 "nbformat_minor": 5
}
