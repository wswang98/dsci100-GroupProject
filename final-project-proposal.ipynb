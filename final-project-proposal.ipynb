{
 "cells": [
  {
   "cell_type": "markdown",
   "id": "e1af9f41-1d32-4c62-9811-734238fdf8e2",
   "metadata": {},
   "source": [
    "# Predicting Heart Disease using Several Common Risk Factors\n",
    "### DSCI 100 Project \n",
    "Christopher Simms 59032219"
   ]
  },
  {
   "cell_type": "markdown",
   "id": "0d533aae-d9e4-491f-9de8-8f726c4de353",
   "metadata": {},
   "source": [
    "### Introduction"
   ]
  },
  {
   "cell_type": "markdown",
   "id": "cf8de290-a605-4bcd-a018-7e5d03c42298",
   "metadata": {},
   "source": [
    "Heart disease refers to various conditions that affect the heart, including blood vessel disease, irregular heartbeats, heart valve disease, etc. It is responsible for 1 in 4 deaths worldwide across all races and genders, making it one of the major causes of death. Heart disease is sometimes referred to as “silent” because, in many cases, it is not diagnosed until the individual experiences signs or symptoms of a heart attack or heart failure. Since it is difficult to diagnose heart disease before more severe symptoms start to appear, our goal is to predict heart disease diagnosis based on known risk factors like high blood pressure and high cholesterol, so that heart disease can be caught even before symptoms start to appear.\n",
    "\n",
    "The dataset we are using is a Heart Disease Data Set (Janosi et al.) that contains information about a person's age, sex, other medical factors and whether the individual was diagnosed with heart disease. The dataset contains 13 variables for which observations were collected and a diagnosis column which is the categorical class we are predicting.\n"
   ]
  },
  {
   "cell_type": "markdown",
   "id": "26bccf53-af69-4f18-b1e4-4171a05c07a2",
   "metadata": {},
   "source": [
    "### Preliminary Exploratory Data Analysis"
   ]
  },
  {
   "cell_type": "code",
   "execution_count": null,
   "id": "16a896f0-2a58-481b-9568-c71660f7bd2f",
   "metadata": {},
   "outputs": [],
   "source": [
    "### code here"
   ]
  },
  {
   "cell_type": "markdown",
   "id": "8f43d14f-b2fb-405e-83ba-7eb8fff3b0c5",
   "metadata": {},
   "source": [
    "### Methods"
   ]
  },
  {
   "cell_type": "markdown",
   "id": "db22fbd1-7e21-4751-a233-2ddfe785961f",
   "metadata": {},
   "source": [
    "Out of the 13 variables in our dataset, five were numerical. We chose to use four of these five: age, max heart rate, resting blood pressure and cholesterol levels. The fifth, which looks at ST wave depressions caused by exercise, was omitted because it is too complex for our needs, and correctly interpreting its meaning requires significant understanding of the biology of the heart.\n",
    "\n",
    "In order to predict the presence of heart disease, we will use a classification model, trained on the four predictor variables mentioned above. One way we plan to visualize the results is using scatter plots comparing two predictors, with data points colored by diagnosis, and a background color indicating the prediction of the classifier (end of section 5.8 in the textbook).\n"
   ]
  },
  {
   "cell_type": "markdown",
   "id": "7dc44d00-dae3-40a6-bf96-1b3ac8b32069",
   "metadata": {},
   "source": [
    "### Expected Outcomes and Significance"
   ]
  },
  {
   "cell_type": "markdown",
   "id": "0e9919e8-0c5a-4d83-92be-79ee3b1ad330",
   "metadata": {},
   "source": [
    "We expect to find a relationship between our age, maximum heart rate, cholesterol level & blood pressure, and the diagnosis of heart disease. We hypothesize that we will be able to accurately predict if someone has heart disease based on specific values of these variables. Heart disease is one of the leading causes of mortality around the world. Being able to predict if someone has heart disease accurately is important because it can allow us to diagnose heart disease early and prevent life threats. Clinicians will be able to give treatment without any serious effects. Our findings can also tell us what factors are correlated with heart disease and, upon further research,  how we can adjust our lifestyle to prevent severe illness. \n",
    "\n",
    "Our analysis can lead to several questions, such as:\n",
    "- How strongly are our variables related to heart disease? Does one variable have a greater impact on the prevalence of heart disease than another? \n",
    "- What are the optimal ranges for blood pressure and cholesterol levels (at each age range) to prevent heart disease?\n",
    "- Are there any confounding variables that could be affecting our findings? \n",
    "- How can our findings be extended to individuals in other parts of the world? Would geographic location impact the accuracy of our model?\n",
    "- How do genetics play a role in the diagnosis of heart disease? \n"
   ]
  },
  {
   "cell_type": "code",
   "execution_count": null,
   "id": "1b6c8b1e-f13b-4fd5-b570-74357b850c3b",
   "metadata": {},
   "outputs": [],
   "source": []
  }
 ],
 "metadata": {
  "kernelspec": {
   "display_name": "R",
   "language": "R",
   "name": "ir"
  },
  "language_info": {
   "codemirror_mode": "r",
   "file_extension": ".r",
   "mimetype": "text/x-r-source",
   "name": "R",
   "pygments_lexer": "r",
   "version": "4.1.3"
  }
 },
 "nbformat": 4,
 "nbformat_minor": 5
}
