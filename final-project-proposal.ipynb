{
 "cells": [
  {
   "cell_type": "markdown",
   "id": "e1af9f41-1d32-4c62-9811-734238fdf8e2",
   "metadata": {},
   "source": [
    "leave empty for now, compile here once we are done. Use the other file as \"rough\" draft."
   ]
  },
  {
   "cell_type": "code",
   "execution_count": null,
   "id": "60844bcb-add2-4e54-a1a2-2ce7a26df862",
   "metadata": {},
   "outputs": [],
   "source": []
  }
 ],
 "metadata": {
  "kernelspec": {
   "display_name": "R",
   "language": "R",
   "name": "ir"
  },
  "language_info": {
   "codemirror_mode": "r",
   "file_extension": ".r",
   "mimetype": "text/x-r-source",
   "name": "R",
   "pygments_lexer": "r",
   "version": "4.1.3"
  }
 },
 "nbformat": 4,
 "nbformat_minor": 5
}
