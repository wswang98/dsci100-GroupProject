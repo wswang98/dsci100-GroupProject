{
 "cells": [
  {
   "cell_type": "markdown",
   "id": "e1af9f41-1d32-4c62-9811-734238fdf8e2",
   "metadata": {},
   "source": [
    "# Predicting Heart Disease using Several Common Risk Factors\n",
    "### DSCI 100 Project \n",
    "Christopher Simms 59032219\n",
    "\n",
    "Juhi Grover 76008424\n",
    "\n",
    "Etan Huang 29998721"
   ]
  },
  {
   "cell_type": "markdown",
   "id": "0d533aae-d9e4-491f-9de8-8f726c4de353",
   "metadata": {},
   "source": [
    "### Introduction"
   ]
  },
  {
   "cell_type": "markdown",
   "id": "cf8de290-a605-4bcd-a018-7e5d03c42298",
   "metadata": {},
   "source": [
    "Heart disease refers to various conditions that affect the heart, including blood vessel disease, irregular heartbeats, heart valve disease, etc. It is responsible for 1 in 4 deaths worldwide across all races and genders, making it one of the major causes of death. Heart disease is sometimes referred to as “silent” because, in many cases, it is not diagnosed until the individual experiences signs or symptoms of a heart attack or heart failure. Since it is difficult to diagnose heart disease before more severe symptoms start to appear, our goal is to predict heart disease diagnosis based on known risk factors like high blood pressure and high cholesterol, so that heart disease can be caught even before symptoms start to appear.\n",
    "\n",
    "The dataset we are using is a Heart Disease Data Set (Janosi et al.) that contains information about a person's age, sex, other medical factors and whether the individual was diagnosed with heart disease. The dataset contains 13 variables for which observations were collected and a diagnosis column which is the categorical class we are predicting.\n"
   ]
  },
  {
   "cell_type": "markdown",
   "id": "26bccf53-af69-4f18-b1e4-4171a05c07a2",
   "metadata": {},
   "source": [
    "### Preliminary Exploratory Data Analysis"
   ]
  },
  {
   "cell_type": "code",
   "execution_count": 11,
   "id": "b47443a1-cbf4-4371-8b3f-34c682c8a08c",
   "metadata": {},
   "outputs": [],
   "source": [
    "#run this cell before continuing\n",
    "library(tidyverse)\n",
    "library(tidymodels)\n",
    "options(repr.matrix.max.rows = 6)"
   ]
  },
  {
   "cell_type": "markdown",
   "id": "e4205d52-f289-49d1-a766-a24bf5e6a71c",
   "metadata": {},
   "source": [
    "Reading Data from Website:"
   ]
  },
  {
   "cell_type": "code",
   "execution_count": 20,
   "id": "16a896f0-2a58-481b-9568-c71660f7bd2f",
   "metadata": {},
   "outputs": [
    {
     "name": "stderr",
     "output_type": "stream",
     "text": [
      "\u001b[1mRows: \u001b[22m\u001b[34m303\u001b[39m \u001b[1mColumns: \u001b[22m\u001b[34m14\u001b[39m\n",
      "\u001b[36m──\u001b[39m \u001b[1mColumn specification\u001b[22m \u001b[36m────────────────────────────────────────────────────────\u001b[39m\n",
      "\u001b[1mDelimiter:\u001b[22m \",\"\n",
      "\u001b[31mchr\u001b[39m  (2): num_blood_vessels_colored, thal\n",
      "\u001b[32mdbl\u001b[39m (12): age, sex, chest_pain_type, resting_blood_pressure, cholesterol_lev...\n",
      "\n",
      "\u001b[36mℹ\u001b[39m Use `spec()` to retrieve the full column specification for this data.\n",
      "\u001b[36mℹ\u001b[39m Specify the column types or set `show_col_types = FALSE` to quiet this message.\n"
     ]
    }
   ],
   "source": [
    "url <- \"https://archive.ics.uci.edu/ml/machine-learning-databases/heart-disease/processed.cleveland.data\"\n",
    "heart_disease_import <- read_csv(url, \n",
    "                               col_names=c(\"age\",\n",
    "                                           \"sex\",\n",
    "                                           \"chest_pain_type\",\n",
    "                                           \"resting_blood_pressure\",\n",
    "                                           \"cholesterol_level\",\n",
    "                                           \"high_fasting_blood_sugar\",\n",
    "                                           \"resting_ecg_results\",\n",
    "                                           \"max_heart_rate\",\n",
    "                                           \"exercise_induced_angina\",\n",
    "                                           \"ST_depression_induced_by_exercise\",\n",
    "                                           \"slope_of_peak_exercise_ST_segment\",\n",
    "                                           \"num_blood_vessels_colored\",\n",
    "                                           \"thal\",\n",
    "                                           \"diagnosis_old\"))"
   ]
  },
  {
   "cell_type": "markdown",
   "id": "c87f6c11-e9ea-49b7-b52e-8bb61cc1c7b6",
   "metadata": {},
   "source": [
    "Wrangling Data: "
   ]
  },
  {
   "cell_type": "code",
   "execution_count": 22,
   "id": "13a8eeb3-c23a-468b-920b-b6e9b57a67b7",
   "metadata": {},
   "outputs": [
    {
     "data": {
      "text/html": [
       "<table class=\"dataframe\">\n",
       "<caption>A tibble: 303 × 15</caption>\n",
       "<thead>\n",
       "\t<tr><th scope=col>age</th><th scope=col>sex</th><th scope=col>chest_pain_type</th><th scope=col>resting_blood_pressure</th><th scope=col>cholesterol_level</th><th scope=col>high_fasting_blood_sugar</th><th scope=col>resting_ecg_results</th><th scope=col>max_heart_rate</th><th scope=col>exercise_induced_angina</th><th scope=col>ST_depression_induced_by_exercise</th><th scope=col>slope_of_peak_exercise_ST_segment</th><th scope=col>num_blood_vessels_colored</th><th scope=col>thal</th><th scope=col>diagnosis_old</th><th scope=col>diagnosis</th></tr>\n",
       "\t<tr><th scope=col>&lt;dbl&gt;</th><th scope=col>&lt;fct&gt;</th><th scope=col>&lt;fct&gt;</th><th scope=col>&lt;dbl&gt;</th><th scope=col>&lt;dbl&gt;</th><th scope=col>&lt;fct&gt;</th><th scope=col>&lt;fct&gt;</th><th scope=col>&lt;dbl&gt;</th><th scope=col>&lt;fct&gt;</th><th scope=col>&lt;dbl&gt;</th><th scope=col>&lt;fct&gt;</th><th scope=col>&lt;fct&gt;</th><th scope=col>&lt;fct&gt;</th><th scope=col>&lt;fct&gt;</th><th scope=col>&lt;fct&gt;</th></tr>\n",
       "</thead>\n",
       "<tbody>\n",
       "\t<tr><td>63</td><td>1</td><td>1</td><td>145</td><td>233</td><td>1</td><td>2</td><td>150</td><td>0</td><td>2.3</td><td>3</td><td>0.0</td><td>6.0</td><td>0</td><td>0</td></tr>\n",
       "\t<tr><td>67</td><td>1</td><td>4</td><td>160</td><td>286</td><td>0</td><td>2</td><td>108</td><td>1</td><td>1.5</td><td>2</td><td>3.0</td><td>3.0</td><td>2</td><td>1</td></tr>\n",
       "\t<tr><td>67</td><td>1</td><td>4</td><td>120</td><td>229</td><td>0</td><td>2</td><td>129</td><td>1</td><td>2.6</td><td>2</td><td>2.0</td><td>7.0</td><td>1</td><td>1</td></tr>\n",
       "\t<tr><td>⋮</td><td>⋮</td><td>⋮</td><td>⋮</td><td>⋮</td><td>⋮</td><td>⋮</td><td>⋮</td><td>⋮</td><td>⋮</td><td>⋮</td><td>⋮</td><td>⋮</td><td>⋮</td><td>⋮</td></tr>\n",
       "\t<tr><td>57</td><td>1</td><td>4</td><td>130</td><td>131</td><td>0</td><td>0</td><td>115</td><td>1</td><td>1.2</td><td>2</td><td>1.0</td><td>7.0</td><td>3</td><td>1</td></tr>\n",
       "\t<tr><td>57</td><td>0</td><td>2</td><td>130</td><td>236</td><td>0</td><td>2</td><td>174</td><td>0</td><td>0.0</td><td>2</td><td>1.0</td><td>3.0</td><td>1</td><td>1</td></tr>\n",
       "\t<tr><td>38</td><td>1</td><td>3</td><td>138</td><td>175</td><td>0</td><td>0</td><td>173</td><td>0</td><td>0.0</td><td>1</td><td>?  </td><td>3.0</td><td>0</td><td>0</td></tr>\n",
       "</tbody>\n",
       "</table>\n"
      ],
      "text/latex": [
       "A tibble: 303 × 15\n",
       "\\begin{tabular}{lllllllllllllll}\n",
       " age & sex & chest\\_pain\\_type & resting\\_blood\\_pressure & cholesterol\\_level & high\\_fasting\\_blood\\_sugar & resting\\_ecg\\_results & max\\_heart\\_rate & exercise\\_induced\\_angina & ST\\_depression\\_induced\\_by\\_exercise & slope\\_of\\_peak\\_exercise\\_ST\\_segment & num\\_blood\\_vessels\\_colored & thal & diagnosis\\_old & diagnosis\\\\\n",
       " <dbl> & <fct> & <fct> & <dbl> & <dbl> & <fct> & <fct> & <dbl> & <fct> & <dbl> & <fct> & <fct> & <fct> & <fct> & <fct>\\\\\n",
       "\\hline\n",
       "\t 63 & 1 & 1 & 145 & 233 & 1 & 2 & 150 & 0 & 2.3 & 3 & 0.0 & 6.0 & 0 & 0\\\\\n",
       "\t 67 & 1 & 4 & 160 & 286 & 0 & 2 & 108 & 1 & 1.5 & 2 & 3.0 & 3.0 & 2 & 1\\\\\n",
       "\t 67 & 1 & 4 & 120 & 229 & 0 & 2 & 129 & 1 & 2.6 & 2 & 2.0 & 7.0 & 1 & 1\\\\\n",
       "\t ⋮ & ⋮ & ⋮ & ⋮ & ⋮ & ⋮ & ⋮ & ⋮ & ⋮ & ⋮ & ⋮ & ⋮ & ⋮ & ⋮ & ⋮\\\\\n",
       "\t 57 & 1 & 4 & 130 & 131 & 0 & 0 & 115 & 1 & 1.2 & 2 & 1.0 & 7.0 & 3 & 1\\\\\n",
       "\t 57 & 0 & 2 & 130 & 236 & 0 & 2 & 174 & 0 & 0.0 & 2 & 1.0 & 3.0 & 1 & 1\\\\\n",
       "\t 38 & 1 & 3 & 138 & 175 & 0 & 0 & 173 & 0 & 0.0 & 1 & ?   & 3.0 & 0 & 0\\\\\n",
       "\\end{tabular}\n"
      ],
      "text/markdown": [
       "\n",
       "A tibble: 303 × 15\n",
       "\n",
       "| age &lt;dbl&gt; | sex &lt;fct&gt; | chest_pain_type &lt;fct&gt; | resting_blood_pressure &lt;dbl&gt; | cholesterol_level &lt;dbl&gt; | high_fasting_blood_sugar &lt;fct&gt; | resting_ecg_results &lt;fct&gt; | max_heart_rate &lt;dbl&gt; | exercise_induced_angina &lt;fct&gt; | ST_depression_induced_by_exercise &lt;dbl&gt; | slope_of_peak_exercise_ST_segment &lt;fct&gt; | num_blood_vessels_colored &lt;fct&gt; | thal &lt;fct&gt; | diagnosis_old &lt;fct&gt; | diagnosis &lt;fct&gt; |\n",
       "|---|---|---|---|---|---|---|---|---|---|---|---|---|---|---|\n",
       "| 63 | 1 | 1 | 145 | 233 | 1 | 2 | 150 | 0 | 2.3 | 3 | 0.0 | 6.0 | 0 | 0 |\n",
       "| 67 | 1 | 4 | 160 | 286 | 0 | 2 | 108 | 1 | 1.5 | 2 | 3.0 | 3.0 | 2 | 1 |\n",
       "| 67 | 1 | 4 | 120 | 229 | 0 | 2 | 129 | 1 | 2.6 | 2 | 2.0 | 7.0 | 1 | 1 |\n",
       "| ⋮ | ⋮ | ⋮ | ⋮ | ⋮ | ⋮ | ⋮ | ⋮ | ⋮ | ⋮ | ⋮ | ⋮ | ⋮ | ⋮ | ⋮ |\n",
       "| 57 | 1 | 4 | 130 | 131 | 0 | 0 | 115 | 1 | 1.2 | 2 | 1.0 | 7.0 | 3 | 1 |\n",
       "| 57 | 0 | 2 | 130 | 236 | 0 | 2 | 174 | 0 | 0.0 | 2 | 1.0 | 3.0 | 1 | 1 |\n",
       "| 38 | 1 | 3 | 138 | 175 | 0 | 0 | 173 | 0 | 0.0 | 1 | ?   | 3.0 | 0 | 0 |\n",
       "\n"
      ],
      "text/plain": [
       "    age sex chest_pain_type resting_blood_pressure cholesterol_level\n",
       "1   63  1   1               145                    233              \n",
       "2   67  1   4               160                    286              \n",
       "3   67  1   4               120                    229              \n",
       "⋮   ⋮   ⋮   ⋮               ⋮                      ⋮                \n",
       "301 57  1   4               130                    131              \n",
       "302 57  0   2               130                    236              \n",
       "303 38  1   3               138                    175              \n",
       "    high_fasting_blood_sugar resting_ecg_results max_heart_rate\n",
       "1   1                        2                   150           \n",
       "2   0                        2                   108           \n",
       "3   0                        2                   129           \n",
       "⋮   ⋮                        ⋮                   ⋮             \n",
       "301 0                        0                   115           \n",
       "302 0                        2                   174           \n",
       "303 0                        0                   173           \n",
       "    exercise_induced_angina ST_depression_induced_by_exercise\n",
       "1   0                       2.3                              \n",
       "2   1                       1.5                              \n",
       "3   1                       2.6                              \n",
       "⋮   ⋮                       ⋮                                \n",
       "301 1                       1.2                              \n",
       "302 0                       0.0                              \n",
       "303 0                       0.0                              \n",
       "    slope_of_peak_exercise_ST_segment num_blood_vessels_colored thal\n",
       "1   3                                 0.0                       6.0 \n",
       "2   2                                 3.0                       3.0 \n",
       "3   2                                 2.0                       7.0 \n",
       "⋮   ⋮                                 ⋮                         ⋮   \n",
       "301 2                                 1.0                       7.0 \n",
       "302 2                                 1.0                       3.0 \n",
       "303 1                                 ?                         3.0 \n",
       "    diagnosis_old diagnosis\n",
       "1   0             0        \n",
       "2   2             1        \n",
       "3   1             1        \n",
       "⋮   ⋮             ⋮        \n",
       "301 3             1        \n",
       "302 1             1        \n",
       "303 0             0        "
      ]
     },
     "metadata": {},
     "output_type": "display_data"
    }
   ],
   "source": [
    "# NOTE: we add a second diagnosis column here, as the one included with the dataset has values 0-4, \n",
    "#       indicating the severity of the heart disease, but the researchers who created the dataset note \n",
    "#       on their website that they only used the predictors to look for presence of heart disease, not to specify severity.\n",
    "#       This new diagnosis column contains only zeroes and ones, indicating presence or absence of heart disease.\n",
    "\n",
    "mutated_heart_disease <- heart_disease_import|>\n",
    "                        mutate(sex = as_factor(sex)) |>\n",
    "                        mutate(chest_pain_type = as_factor(chest_pain_type)) |>\n",
    "                        mutate(high_fasting_blood_sugar = as_factor(high_fasting_blood_sugar)) |>\n",
    "                        mutate(resting_ecg_results = as_factor(resting_ecg_results)) |>\n",
    "                        mutate(exercise_induced_angina = as_factor(exercise_induced_angina)) |>\n",
    "                        mutate(slope_of_peak_exercise_ST_segment = as_factor(slope_of_peak_exercise_ST_segment)) |>\n",
    "                        mutate(num_blood_vessels_colored = as_factor(num_blood_vessels_colored)) |>\n",
    "                        mutate(thal = as_factor(thal))\n",
    "\n",
    "heart_disease_data <- mutated_heart_disease |>\n",
    "                mutate(diagnosis= ifelse(diagnosis_old>0,1,0)) |>\n",
    "                mutate(diagnosis_old = as_factor(diagnosis_old)) |>\n",
    "                mutate(diagnosis = as_factor(diagnosis))\n",
    "\n",
    "heart_disease_data"
   ]
  },
  {
   "cell_type": "markdown",
   "id": "f163c59c-750b-45c0-84aa-754029d2a0e9",
   "metadata": {},
   "source": [
    "Splitting Data/Selecting Training Variables:"
   ]
  },
  {
   "cell_type": "code",
   "execution_count": 23,
   "id": "b8bee8b4-29dd-4581-b618-89ce434e12e7",
   "metadata": {},
   "outputs": [],
   "source": [
    "heart_disease_selected <- heart_disease_data |>\n",
    "                        select(age, resting_blood_pressure, cholesterol_level, max_heart_rate, diagnosis)\n",
    "\n",
    "heart_split <- initial_split(heart_disease_selected, prop = 0.75, strata = diagnosis)\n",
    "heart_training <- training(heart_split)\n",
    "heart_testing <- testing(heart_split)"
   ]
  },
  {
   "cell_type": "markdown",
   "id": "0883ce41-6792-40e8-8622-b7af063d90fe",
   "metadata": {},
   "source": [
    "### Exploratory Data Analysis & Visualization"
   ]
  },
  {
   "cell_type": "code",
   "execution_count": 29,
   "id": "1646aa79-a19c-4653-9a91-8b9a05ea52b3",
   "metadata": {},
   "outputs": [
    {
     "data": {
      "text/html": [
       "<table class=\"dataframe\">\n",
       "<caption>A tibble: 2 × 2</caption>\n",
       "<thead>\n",
       "\t<tr><th scope=col>diagnosis</th><th scope=col>n</th></tr>\n",
       "\t<tr><th scope=col>&lt;fct&gt;</th><th scope=col>&lt;int&gt;</th></tr>\n",
       "</thead>\n",
       "<tbody>\n",
       "\t<tr><td>0</td><td>123</td></tr>\n",
       "\t<tr><td>1</td><td>104</td></tr>\n",
       "</tbody>\n",
       "</table>\n"
      ],
      "text/latex": [
       "A tibble: 2 × 2\n",
       "\\begin{tabular}{ll}\n",
       " diagnosis & n\\\\\n",
       " <fct> & <int>\\\\\n",
       "\\hline\n",
       "\t 0 & 123\\\\\n",
       "\t 1 & 104\\\\\n",
       "\\end{tabular}\n"
      ],
      "text/markdown": [
       "\n",
       "A tibble: 2 × 2\n",
       "\n",
       "| diagnosis &lt;fct&gt; | n &lt;int&gt; |\n",
       "|---|---|\n",
       "| 0 | 123 |\n",
       "| 1 | 104 |\n",
       "\n"
      ],
      "text/plain": [
       "  diagnosis n  \n",
       "1 0         123\n",
       "2 1         104"
      ]
     },
     "metadata": {},
     "output_type": "display_data"
    },
    {
     "data": {
      "text/html": [
       "<table class=\"dataframe\">\n",
       "<caption>A tibble: 4 × 3</caption>\n",
       "<thead>\n",
       "\t<tr><th scope=col>category</th><th scope=col>0</th><th scope=col>1</th></tr>\n",
       "\t<tr><th scope=col>&lt;chr&gt;</th><th scope=col>&lt;dbl&gt;</th><th scope=col>&lt;dbl&gt;</th></tr>\n",
       "</thead>\n",
       "<tbody>\n",
       "\t<tr><td>mean_age              </td><td> 52.8374</td><td> 56.52885</td></tr>\n",
       "\t<tr><td>mean_heart_rate       </td><td>158.7561</td><td>139.53846</td></tr>\n",
       "\t<tr><td>mean_cholesterol_level</td><td>239.4553</td><td>251.88462</td></tr>\n",
       "\t<tr><td>mean_blood_pressure   </td><td>128.9593</td><td>134.36538</td></tr>\n",
       "</tbody>\n",
       "</table>\n"
      ],
      "text/latex": [
       "A tibble: 4 × 3\n",
       "\\begin{tabular}{lll}\n",
       " category & 0 & 1\\\\\n",
       " <chr> & <dbl> & <dbl>\\\\\n",
       "\\hline\n",
       "\t mean\\_age               &  52.8374 &  56.52885\\\\\n",
       "\t mean\\_heart\\_rate        & 158.7561 & 139.53846\\\\\n",
       "\t mean\\_cholesterol\\_level & 239.4553 & 251.88462\\\\\n",
       "\t mean\\_blood\\_pressure    & 128.9593 & 134.36538\\\\\n",
       "\\end{tabular}\n"
      ],
      "text/markdown": [
       "\n",
       "A tibble: 4 × 3\n",
       "\n",
       "| category &lt;chr&gt; | 0 &lt;dbl&gt; | 1 &lt;dbl&gt; |\n",
       "|---|---|---|\n",
       "| mean_age               |  52.8374 |  56.52885 |\n",
       "| mean_heart_rate        | 158.7561 | 139.53846 |\n",
       "| mean_cholesterol_level | 239.4553 | 251.88462 |\n",
       "| mean_blood_pressure    | 128.9593 | 134.36538 |\n",
       "\n"
      ],
      "text/plain": [
       "  category               0        1        \n",
       "1 mean_age                52.8374  56.52885\n",
       "2 mean_heart_rate        158.7561 139.53846\n",
       "3 mean_cholesterol_level 239.4553 251.88462\n",
       "4 mean_blood_pressure    128.9593 134.36538"
      ]
     },
     "metadata": {},
     "output_type": "display_data"
    }
   ],
   "source": [
    "diagnosis_count <- heart_training |>\n",
    "    group_by(diagnosis) |>\n",
    "    summarize(n = n()) |>\n",
    "    arrange(desc(n))\n",
    "diagnosis_count\n",
    "\n",
    "\n",
    "mean_diagnosis <- heart_training |>\n",
    "    group_by(diagnosis) |>\n",
    "    summarize(mean_age = mean(age, na.rm = TRUE), \n",
    "              mean_heart_rate = mean(max_heart_rate, na.rm = TRUE), \n",
    "              mean_cholesterol_level = mean(cholesterol_level, na.rm = TRUE),\n",
    "              mean_blood_pressure = mean(resting_blood_pressure, na.rm = TRUE)) |>\n",
    "    pivot_longer(cols = mean_age:mean_blood_pressure,\n",
    "                 names_to = \"category\",\n",
    "                 values_to = \"mean value\") |>\n",
    "    pivot_wider(names_from = \"diagnosis\",\n",
    "                values_from = \"mean value\")\n",
    "mean_diagnosis"
   ]
  },
  {
   "cell_type": "markdown",
   "id": "10d4d2d1-6102-49a8-8731-8b154b55d4b6",
   "metadata": {},
   "source": [
    "Above are two tables, one shows the proportion of data points (people in our case) with heart disease and without. The other shows the mean values of our predictor variables for those with and without heart disease. We can see that the distribution of the target class (diagnosis) is fairly equal, so oversampling will likely not be necessary in this case. "
   ]
  },
  {
   "cell_type": "code",
   "execution_count": null,
   "id": "2ba90d69-a4cb-4355-96ef-8e591aa7dfe3",
   "metadata": {},
   "outputs": [],
   "source": []
  },
  {
   "cell_type": "markdown",
   "id": "aac6e0bd-cf76-410e-9b56-8f2e21d93023",
   "metadata": {},
   "source": []
  },
  {
   "cell_type": "markdown",
   "id": "8f43d14f-b2fb-405e-83ba-7eb8fff3b0c5",
   "metadata": {},
   "source": [
    "### Methods"
   ]
  },
  {
   "cell_type": "markdown",
   "id": "db22fbd1-7e21-4751-a233-2ddfe785961f",
   "metadata": {},
   "source": [
    "Out of the 13 variables in our dataset, five were numerical. We chose to use four of these five: age, max heart rate, resting blood pressure and cholesterol levels. The fifth, which looks at ST wave depressions caused by exercise, was omitted because it is too complex for our needs, and correctly interpreting its meaning requires significant understanding of the biology of the heart.\n",
    "\n",
    "In order to predict the presence of heart disease, we will use a classification model, trained on the four predictor variables mentioned above. One way we plan to visualize the results is using scatter plots comparing two predictors, with data points colored by diagnosis, and a background color indicating the prediction of the classifier (end of section 5.8 in the textbook).\n"
   ]
  },
  {
   "cell_type": "markdown",
   "id": "7dc44d00-dae3-40a6-bf96-1b3ac8b32069",
   "metadata": {},
   "source": [
    "### Expected Outcomes and Significance"
   ]
  },
  {
   "cell_type": "markdown",
   "id": "0e9919e8-0c5a-4d83-92be-79ee3b1ad330",
   "metadata": {},
   "source": [
    "We expect to find a relationship between our age, maximum heart rate, cholesterol level & blood pressure, and the diagnosis of heart disease. We hypothesize that we will be able to accurately predict if someone has heart disease based on specific values of these variables. Heart disease is one of the leading causes of mortality around the world. Being able to predict if someone has heart disease accurately is important because it can allow us to diagnose heart disease early and prevent life threats. Clinicians will be able to give treatment without any serious effects. Our findings can also tell us what factors are correlated with heart disease and, upon further research,  how we can adjust our lifestyle to prevent severe illness. \n",
    "\n",
    "Our analysis can lead to several questions, such as:\n",
    "- How strongly are our variables related to heart disease? Does one variable have a greater impact on the prevalence of heart disease than another? \n",
    "- What are the optimal ranges for blood pressure and cholesterol levels (at each age range) to prevent heart disease?\n",
    "- Are there any confounding variables that could be affecting our findings? \n",
    "- How can our findings be extended to individuals in other parts of the world? Would geographic location impact the accuracy of our model?\n",
    "- How do genetics play a role in the diagnosis of heart disease? \n"
   ]
  },
  {
   "cell_type": "code",
   "execution_count": null,
   "id": "1b6c8b1e-f13b-4fd5-b570-74357b850c3b",
   "metadata": {},
   "outputs": [],
   "source": []
  }
 ],
 "metadata": {
  "kernelspec": {
   "display_name": "R",
   "language": "R",
   "name": "ir"
  },
  "language_info": {
   "codemirror_mode": "r",
   "file_extension": ".r",
   "mimetype": "text/x-r-source",
   "name": "R",
   "pygments_lexer": "r",
   "version": "4.1.3"
  }
 },
 "nbformat": 4,
 "nbformat_minor": 5
}
