{
 "cells": [
  {
   "cell_type": "markdown",
   "id": "f2da6019",
   "metadata": {},
   "source": [
    "# Predicting Presence of Heart Disease"
   ]
  },
  {
   "cell_type": "markdown",
   "id": "84d4e8e2-b37b-4b4b-8bd0-72e8bf7222ac",
   "metadata": {},
   "source": [
    "Christopher Simms 59032219\n",
    "\n",
    "Juhi Grover 76008424\n",
    "\n",
    "Etan Huang 29998721\n",
    "\n",
    "Wendy Wang 38122164"
   ]
  },
  {
   "cell_type": "markdown",
   "id": "90314822",
   "metadata": {},
   "source": [
    "## Introduction"
   ]
  },
  {
   "cell_type": "markdown",
   "id": "62dc010e",
   "metadata": {},
   "source": [
    "Heart disease refers to various conditions that affect the heart, including blood vessel disease, irregular heartbeats, heart valve disease, etc.\n",
    "\n",
    "\"Heart disease is responsible for most deaths worldwide for both men and women of all races, accounting for about 1 in every 4 deaths.\" (Thomas 2020 - Healthline.com), making it one of the major causes of death. Heart disease is sometimes referred to as “silent” because, in many cases, it is not diagnosed until the individual experiences signs or symptoms of a heart attack or heart failure. Being such a major cause of death, usually through heart attacks, it would be very helpful if we could identify those with the condition before too many symptoms have a chance to manifest.\n",
    "\n",
    "Since it is difficult to diagnose heart disease before more severe symptoms start to appear, our goal is to predict heart disease diagnosis based on known risk factors like high blood pressure and high cholesterol, so that heart disease can be caught even before symptoms start to appear. By detecting heart disease before symptoms begin to appear, patients can receive the right treatment ahead of time and have a greater chance of survival. Looking online, there are many identified risk factors, which include obesity, diabetes and high blood pressure, among other conditions and lifestyle habits. How can we be sure which of these risk factors significantly increase chances of heart disease, and by how much do they increase the risk?\n",
    "\n",
    "The dataset we are using is a Heart Disease Data Set (Janosi et al.) that contains information about a person's age, sex, other medical factors and whether the individual was diagnosed with heart disease. The dataset contains 13 variables for which observations were collected and a diagnosis column which is the categorical class we are predicting."
   ]
  },
  {
   "cell_type": "markdown",
   "id": "3062df7d",
   "metadata": {},
   "source": [
    "## Method"
   ]
  },
  {
   "cell_type": "markdown",
   "id": "204b34ae",
   "metadata": {},
   "source": [
    "Out of the 13 variables in our dataset, five were numerical. We chose to use four of these five: age, max heart rate, resting blood pressure and cholesterol levels. The fifth, which looks at ST wave depressions caused by exercise, was omitted because it is too complex for our needs, and correctly interpreting its meaning requires significant understanding of the biology of the heart.\n",
    "\n",
    "In order to predict the presence of heart disease, we will use a classification model, trained on the four predictor variables mentioned above. One way we plan to visualize the results is using scatter plots comparing two predictors, with data points colored by diagnosis, and a background color indicating the prediction of the classifier (end of section 5.8 in the textbook)."
   ]
  },
  {
   "cell_type": "code",
   "execution_count": 1,
   "id": "56524bf3",
   "metadata": {},
   "outputs": [
    {
     "name": "stderr",
     "output_type": "stream",
     "text": [
      "── \u001b[1mAttaching packages\u001b[22m ─────────────────────────────────────── tidyverse 1.3.1 ──\n",
      "\n",
      "\u001b[32m✔\u001b[39m \u001b[34mggplot2\u001b[39m 3.3.6     \u001b[32m✔\u001b[39m \u001b[34mpurrr  \u001b[39m 0.3.4\n",
      "\u001b[32m✔\u001b[39m \u001b[34mtibble \u001b[39m 3.1.7     \u001b[32m✔\u001b[39m \u001b[34mdplyr  \u001b[39m 1.0.9\n",
      "\u001b[32m✔\u001b[39m \u001b[34mtidyr  \u001b[39m 1.2.0     \u001b[32m✔\u001b[39m \u001b[34mstringr\u001b[39m 1.4.0\n",
      "\u001b[32m✔\u001b[39m \u001b[34mreadr  \u001b[39m 2.1.2     \u001b[32m✔\u001b[39m \u001b[34mforcats\u001b[39m 0.5.1\n",
      "\n",
      "── \u001b[1mConflicts\u001b[22m ────────────────────────────────────────── tidyverse_conflicts() ──\n",
      "\u001b[31m✖\u001b[39m \u001b[34mdplyr\u001b[39m::\u001b[32mfilter()\u001b[39m masks \u001b[34mstats\u001b[39m::filter()\n",
      "\u001b[31m✖\u001b[39m \u001b[34mdplyr\u001b[39m::\u001b[32mlag()\u001b[39m    masks \u001b[34mstats\u001b[39m::lag()\n",
      "\n",
      "── \u001b[1mAttaching packages\u001b[22m ────────────────────────────────────── tidymodels 1.0.0 ──\n",
      "\n",
      "\u001b[32m✔\u001b[39m \u001b[34mbroom       \u001b[39m 1.0.0     \u001b[32m✔\u001b[39m \u001b[34mrsample     \u001b[39m 1.0.0\n",
      "\u001b[32m✔\u001b[39m \u001b[34mdials       \u001b[39m 1.0.0     \u001b[32m✔\u001b[39m \u001b[34mtune        \u001b[39m 1.0.0\n",
      "\u001b[32m✔\u001b[39m \u001b[34minfer       \u001b[39m 1.0.2     \u001b[32m✔\u001b[39m \u001b[34mworkflows   \u001b[39m 1.0.0\n",
      "\u001b[32m✔\u001b[39m \u001b[34mmodeldata   \u001b[39m 1.0.0     \u001b[32m✔\u001b[39m \u001b[34mworkflowsets\u001b[39m 1.0.0\n",
      "\u001b[32m✔\u001b[39m \u001b[34mparsnip     \u001b[39m 1.0.0     \u001b[32m✔\u001b[39m \u001b[34myardstick   \u001b[39m 1.0.0\n",
      "\u001b[32m✔\u001b[39m \u001b[34mrecipes     \u001b[39m 1.0.1     \n",
      "\n",
      "── \u001b[1mConflicts\u001b[22m ───────────────────────────────────────── tidymodels_conflicts() ──\n",
      "\u001b[31m✖\u001b[39m \u001b[34mscales\u001b[39m::\u001b[32mdiscard()\u001b[39m masks \u001b[34mpurrr\u001b[39m::discard()\n",
      "\u001b[31m✖\u001b[39m \u001b[34mdplyr\u001b[39m::\u001b[32mfilter()\u001b[39m   masks \u001b[34mstats\u001b[39m::filter()\n",
      "\u001b[31m✖\u001b[39m \u001b[34mrecipes\u001b[39m::\u001b[32mfixed()\u001b[39m  masks \u001b[34mstringr\u001b[39m::fixed()\n",
      "\u001b[31m✖\u001b[39m \u001b[34mdplyr\u001b[39m::\u001b[32mlag()\u001b[39m      masks \u001b[34mstats\u001b[39m::lag()\n",
      "\u001b[31m✖\u001b[39m \u001b[34myardstick\u001b[39m::\u001b[32mspec()\u001b[39m masks \u001b[34mreadr\u001b[39m::spec()\n",
      "\u001b[31m✖\u001b[39m \u001b[34mrecipes\u001b[39m::\u001b[32mstep()\u001b[39m   masks \u001b[34mstats\u001b[39m::step()\n",
      "\u001b[34m•\u001b[39m Dig deeper into tidy modeling with R at \u001b[32mhttps://www.tmwr.org\u001b[39m\n",
      "\n"
     ]
    }
   ],
   "source": [
    "#run this cell before continuing\n",
    "library(tidyverse)\n",
    "library(tidymodels)\n",
    "library(RColorBrewer)\n",
    "library(repr)\n",
    "options(repr.matrix.max.rows = 6)"
   ]
  },
  {
   "cell_type": "markdown",
   "id": "af0491ac",
   "metadata": {},
   "source": [
    "### Data Tidying ###"
   ]
  },
  {
   "cell_type": "markdown",
   "id": "01c3989d",
   "metadata": {},
   "source": [
    "We begin by importing our dataset and assigning names to the columns, which are given on the <a href=https://archive.ics.uci.edu/ml/datasets/Heart+Disease>dataset's website<a> but not included in the file. We also set many of the predictor variables to factors, since they are incorrectly imported as numeric."
   ]
  },
  {
   "cell_type": "code",
   "execution_count": 2,
   "id": "7336e902",
   "metadata": {},
   "outputs": [
    {
     "name": "stderr",
     "output_type": "stream",
     "text": [
      "\u001b[1mRows: \u001b[22m\u001b[34m303\u001b[39m \u001b[1mColumns: \u001b[22m\u001b[34m14\u001b[39m\n",
      "\u001b[36m──\u001b[39m \u001b[1mColumn specification\u001b[22m \u001b[36m────────────────────────────────────────────────────────\u001b[39m\n",
      "\u001b[1mDelimiter:\u001b[22m \",\"\n",
      "\u001b[31mchr\u001b[39m  (2): num_blood_vessels_colored, thal\n",
      "\u001b[32mdbl\u001b[39m (12): age, sex, chest_pain_type, resting_blood_pressure, cholesterol_lev...\n",
      "\n",
      "\u001b[36mℹ\u001b[39m Use `spec()` to retrieve the full column specification for this data.\n",
      "\u001b[36mℹ\u001b[39m Specify the column types or set `show_col_types = FALSE` to quiet this message.\n"
     ]
    },
    {
     "data": {
      "text/html": [
       "<table class=\"dataframe\">\n",
       "<caption>A tibble: 303 × 14</caption>\n",
       "<thead>\n",
       "\t<tr><th scope=col>age</th><th scope=col>sex</th><th scope=col>chest_pain_type</th><th scope=col>resting_blood_pressure</th><th scope=col>cholesterol_level</th><th scope=col>high_fasting_blood_sugar</th><th scope=col>resting_ecg_results</th><th scope=col>max_heart_rate</th><th scope=col>exercise_induced_angina</th><th scope=col>ST_depression_induced_by_exercise</th><th scope=col>slope_of_peak_exercise_ST_segment</th><th scope=col>num_blood_vessels_colored</th><th scope=col>thal</th><th scope=col>diagnosis_old</th></tr>\n",
       "\t<tr><th scope=col>&lt;dbl&gt;</th><th scope=col>&lt;fct&gt;</th><th scope=col>&lt;fct&gt;</th><th scope=col>&lt;dbl&gt;</th><th scope=col>&lt;dbl&gt;</th><th scope=col>&lt;fct&gt;</th><th scope=col>&lt;fct&gt;</th><th scope=col>&lt;dbl&gt;</th><th scope=col>&lt;fct&gt;</th><th scope=col>&lt;dbl&gt;</th><th scope=col>&lt;fct&gt;</th><th scope=col>&lt;fct&gt;</th><th scope=col>&lt;fct&gt;</th><th scope=col>&lt;dbl&gt;</th></tr>\n",
       "</thead>\n",
       "<tbody>\n",
       "\t<tr><td>63</td><td>1</td><td>1</td><td>145</td><td>233</td><td>1</td><td>2</td><td>150</td><td>0</td><td>2.3</td><td>3</td><td>0.0</td><td>6.0</td><td>0</td></tr>\n",
       "\t<tr><td>67</td><td>1</td><td>4</td><td>160</td><td>286</td><td>0</td><td>2</td><td>108</td><td>1</td><td>1.5</td><td>2</td><td>3.0</td><td>3.0</td><td>2</td></tr>\n",
       "\t<tr><td>67</td><td>1</td><td>4</td><td>120</td><td>229</td><td>0</td><td>2</td><td>129</td><td>1</td><td>2.6</td><td>2</td><td>2.0</td><td>7.0</td><td>1</td></tr>\n",
       "\t<tr><td>⋮</td><td>⋮</td><td>⋮</td><td>⋮</td><td>⋮</td><td>⋮</td><td>⋮</td><td>⋮</td><td>⋮</td><td>⋮</td><td>⋮</td><td>⋮</td><td>⋮</td><td>⋮</td></tr>\n",
       "\t<tr><td>57</td><td>1</td><td>4</td><td>130</td><td>131</td><td>0</td><td>0</td><td>115</td><td>1</td><td>1.2</td><td>2</td><td>1.0</td><td>7.0</td><td>3</td></tr>\n",
       "\t<tr><td>57</td><td>0</td><td>2</td><td>130</td><td>236</td><td>0</td><td>2</td><td>174</td><td>0</td><td>0.0</td><td>2</td><td>1.0</td><td>3.0</td><td>1</td></tr>\n",
       "\t<tr><td>38</td><td>1</td><td>3</td><td>138</td><td>175</td><td>0</td><td>0</td><td>173</td><td>0</td><td>0.0</td><td>1</td><td>?  </td><td>3.0</td><td>0</td></tr>\n",
       "</tbody>\n",
       "</table>\n"
      ],
      "text/latex": [
       "A tibble: 303 × 14\n",
       "\\begin{tabular}{llllllllllllll}\n",
       " age & sex & chest\\_pain\\_type & resting\\_blood\\_pressure & cholesterol\\_level & high\\_fasting\\_blood\\_sugar & resting\\_ecg\\_results & max\\_heart\\_rate & exercise\\_induced\\_angina & ST\\_depression\\_induced\\_by\\_exercise & slope\\_of\\_peak\\_exercise\\_ST\\_segment & num\\_blood\\_vessels\\_colored & thal & diagnosis\\_old\\\\\n",
       " <dbl> & <fct> & <fct> & <dbl> & <dbl> & <fct> & <fct> & <dbl> & <fct> & <dbl> & <fct> & <fct> & <fct> & <dbl>\\\\\n",
       "\\hline\n",
       "\t 63 & 1 & 1 & 145 & 233 & 1 & 2 & 150 & 0 & 2.3 & 3 & 0.0 & 6.0 & 0\\\\\n",
       "\t 67 & 1 & 4 & 160 & 286 & 0 & 2 & 108 & 1 & 1.5 & 2 & 3.0 & 3.0 & 2\\\\\n",
       "\t 67 & 1 & 4 & 120 & 229 & 0 & 2 & 129 & 1 & 2.6 & 2 & 2.0 & 7.0 & 1\\\\\n",
       "\t ⋮ & ⋮ & ⋮ & ⋮ & ⋮ & ⋮ & ⋮ & ⋮ & ⋮ & ⋮ & ⋮ & ⋮ & ⋮ & ⋮\\\\\n",
       "\t 57 & 1 & 4 & 130 & 131 & 0 & 0 & 115 & 1 & 1.2 & 2 & 1.0 & 7.0 & 3\\\\\n",
       "\t 57 & 0 & 2 & 130 & 236 & 0 & 2 & 174 & 0 & 0.0 & 2 & 1.0 & 3.0 & 1\\\\\n",
       "\t 38 & 1 & 3 & 138 & 175 & 0 & 0 & 173 & 0 & 0.0 & 1 & ?   & 3.0 & 0\\\\\n",
       "\\end{tabular}\n"
      ],
      "text/markdown": [
       "\n",
       "A tibble: 303 × 14\n",
       "\n",
       "| age &lt;dbl&gt; | sex &lt;fct&gt; | chest_pain_type &lt;fct&gt; | resting_blood_pressure &lt;dbl&gt; | cholesterol_level &lt;dbl&gt; | high_fasting_blood_sugar &lt;fct&gt; | resting_ecg_results &lt;fct&gt; | max_heart_rate &lt;dbl&gt; | exercise_induced_angina &lt;fct&gt; | ST_depression_induced_by_exercise &lt;dbl&gt; | slope_of_peak_exercise_ST_segment &lt;fct&gt; | num_blood_vessels_colored &lt;fct&gt; | thal &lt;fct&gt; | diagnosis_old &lt;dbl&gt; |\n",
       "|---|---|---|---|---|---|---|---|---|---|---|---|---|---|\n",
       "| 63 | 1 | 1 | 145 | 233 | 1 | 2 | 150 | 0 | 2.3 | 3 | 0.0 | 6.0 | 0 |\n",
       "| 67 | 1 | 4 | 160 | 286 | 0 | 2 | 108 | 1 | 1.5 | 2 | 3.0 | 3.0 | 2 |\n",
       "| 67 | 1 | 4 | 120 | 229 | 0 | 2 | 129 | 1 | 2.6 | 2 | 2.0 | 7.0 | 1 |\n",
       "| ⋮ | ⋮ | ⋮ | ⋮ | ⋮ | ⋮ | ⋮ | ⋮ | ⋮ | ⋮ | ⋮ | ⋮ | ⋮ | ⋮ |\n",
       "| 57 | 1 | 4 | 130 | 131 | 0 | 0 | 115 | 1 | 1.2 | 2 | 1.0 | 7.0 | 3 |\n",
       "| 57 | 0 | 2 | 130 | 236 | 0 | 2 | 174 | 0 | 0.0 | 2 | 1.0 | 3.0 | 1 |\n",
       "| 38 | 1 | 3 | 138 | 175 | 0 | 0 | 173 | 0 | 0.0 | 1 | ?   | 3.0 | 0 |\n",
       "\n"
      ],
      "text/plain": [
       "    age sex chest_pain_type resting_blood_pressure cholesterol_level\n",
       "1   63  1   1               145                    233              \n",
       "2   67  1   4               160                    286              \n",
       "3   67  1   4               120                    229              \n",
       "⋮   ⋮   ⋮   ⋮               ⋮                      ⋮                \n",
       "301 57  1   4               130                    131              \n",
       "302 57  0   2               130                    236              \n",
       "303 38  1   3               138                    175              \n",
       "    high_fasting_blood_sugar resting_ecg_results max_heart_rate\n",
       "1   1                        2                   150           \n",
       "2   0                        2                   108           \n",
       "3   0                        2                   129           \n",
       "⋮   ⋮                        ⋮                   ⋮             \n",
       "301 0                        0                   115           \n",
       "302 0                        2                   174           \n",
       "303 0                        0                   173           \n",
       "    exercise_induced_angina ST_depression_induced_by_exercise\n",
       "1   0                       2.3                              \n",
       "2   1                       1.5                              \n",
       "3   1                       2.6                              \n",
       "⋮   ⋮                       ⋮                                \n",
       "301 1                       1.2                              \n",
       "302 0                       0.0                              \n",
       "303 0                       0.0                              \n",
       "    slope_of_peak_exercise_ST_segment num_blood_vessels_colored thal\n",
       "1   3                                 0.0                       6.0 \n",
       "2   2                                 3.0                       3.0 \n",
       "3   2                                 2.0                       7.0 \n",
       "⋮   ⋮                                 ⋮                         ⋮   \n",
       "301 2                                 1.0                       7.0 \n",
       "302 2                                 1.0                       3.0 \n",
       "303 1                                 ?                         3.0 \n",
       "    diagnosis_old\n",
       "1   0            \n",
       "2   2            \n",
       "3   1            \n",
       "⋮   ⋮            \n",
       "301 3            \n",
       "302 1            \n",
       "303 0            "
      ]
     },
     "metadata": {},
     "output_type": "display_data"
    }
   ],
   "source": [
    "url <- \"https://archive.ics.uci.edu/ml/machine-learning-databases/heart-disease/processed.cleveland.data\"\n",
    "heart_disease_import <- read_csv(url, \n",
    "                               col_names=c(\"age\",\n",
    "                                           \"sex\",\n",
    "                                           \"chest_pain_type\",\n",
    "                                           \"resting_blood_pressure\",\n",
    "                                           \"cholesterol_level\",\n",
    "                                           \"high_fasting_blood_sugar\",\n",
    "                                           \"resting_ecg_results\",\n",
    "                                           \"max_heart_rate\",\n",
    "                                           \"exercise_induced_angina\",\n",
    "                                           \"ST_depression_induced_by_exercise\",\n",
    "                                           \"slope_of_peak_exercise_ST_segment\",\n",
    "                                           \"num_blood_vessels_colored\",\n",
    "                                           \"thal\",\n",
    "                                           \"diagnosis_old\"))\n",
    "\n",
    "mutated_heart_disease <- heart_disease_import |>\n",
    "                        mutate(sex = as_factor(sex)) |>\n",
    "                        mutate(chest_pain_type = as_factor(chest_pain_type)) |>\n",
    "                        mutate(high_fasting_blood_sugar = as_factor(high_fasting_blood_sugar)) |>\n",
    "                        mutate(resting_ecg_results = as_factor(resting_ecg_results)) |>\n",
    "                        mutate(exercise_induced_angina = as_factor(exercise_induced_angina)) |>\n",
    "                        mutate(slope_of_peak_exercise_ST_segment = as_factor(slope_of_peak_exercise_ST_segment)) |>\n",
    "                        mutate(num_blood_vessels_colored = as_factor(num_blood_vessels_colored)) |>\n",
    "                        mutate(thal = as_factor(thal))\n",
    "\n",
    "mutated_heart_disease"
   ]
  },
  {
   "cell_type": "markdown",
   "id": "8d8c6c44",
   "metadata": {},
   "source": [
    "### Adding a New Diagnosis Column"
   ]
  },
  {
   "cell_type": "markdown",
   "id": "01e5f824",
   "metadata": {},
   "source": [
    "Before continuing, we need to add a new diagnosis column, which we will do below. This is because the dataset's diagnosis column includes values from 0 to 4, but the website comments that all analyses done on the dataset only tried to detect the presence of heart disease, not the severity (which is indicated by the values between 1 and 4). Because of this, we will mutate a new column named \"diagnosis\" that has a 1 for every nonzero value in the old diagnosis column."
   ]
  },
  {
   "cell_type": "code",
   "execution_count": 3,
   "id": "016f77bb",
   "metadata": {},
   "outputs": [
    {
     "data": {
      "text/html": [
       "<table class=\"dataframe\">\n",
       "<caption>A tibble: 303 × 15</caption>\n",
       "<thead>\n",
       "\t<tr><th scope=col>age</th><th scope=col>sex</th><th scope=col>chest_pain_type</th><th scope=col>resting_blood_pressure</th><th scope=col>cholesterol_level</th><th scope=col>high_fasting_blood_sugar</th><th scope=col>resting_ecg_results</th><th scope=col>max_heart_rate</th><th scope=col>exercise_induced_angina</th><th scope=col>ST_depression_induced_by_exercise</th><th scope=col>slope_of_peak_exercise_ST_segment</th><th scope=col>num_blood_vessels_colored</th><th scope=col>thal</th><th scope=col>diagnosis_old</th><th scope=col>diagnosis</th></tr>\n",
       "\t<tr><th scope=col>&lt;dbl&gt;</th><th scope=col>&lt;fct&gt;</th><th scope=col>&lt;fct&gt;</th><th scope=col>&lt;dbl&gt;</th><th scope=col>&lt;dbl&gt;</th><th scope=col>&lt;fct&gt;</th><th scope=col>&lt;fct&gt;</th><th scope=col>&lt;dbl&gt;</th><th scope=col>&lt;fct&gt;</th><th scope=col>&lt;dbl&gt;</th><th scope=col>&lt;fct&gt;</th><th scope=col>&lt;fct&gt;</th><th scope=col>&lt;fct&gt;</th><th scope=col>&lt;fct&gt;</th><th scope=col>&lt;fct&gt;</th></tr>\n",
       "</thead>\n",
       "<tbody>\n",
       "\t<tr><td>63</td><td>1</td><td>1</td><td>145</td><td>233</td><td>1</td><td>2</td><td>150</td><td>0</td><td>2.3</td><td>3</td><td>0.0</td><td>6.0</td><td>0</td><td>0</td></tr>\n",
       "\t<tr><td>67</td><td>1</td><td>4</td><td>160</td><td>286</td><td>0</td><td>2</td><td>108</td><td>1</td><td>1.5</td><td>2</td><td>3.0</td><td>3.0</td><td>2</td><td>1</td></tr>\n",
       "\t<tr><td>67</td><td>1</td><td>4</td><td>120</td><td>229</td><td>0</td><td>2</td><td>129</td><td>1</td><td>2.6</td><td>2</td><td>2.0</td><td>7.0</td><td>1</td><td>1</td></tr>\n",
       "\t<tr><td>⋮</td><td>⋮</td><td>⋮</td><td>⋮</td><td>⋮</td><td>⋮</td><td>⋮</td><td>⋮</td><td>⋮</td><td>⋮</td><td>⋮</td><td>⋮</td><td>⋮</td><td>⋮</td><td>⋮</td></tr>\n",
       "\t<tr><td>57</td><td>1</td><td>4</td><td>130</td><td>131</td><td>0</td><td>0</td><td>115</td><td>1</td><td>1.2</td><td>2</td><td>1.0</td><td>7.0</td><td>3</td><td>1</td></tr>\n",
       "\t<tr><td>57</td><td>0</td><td>2</td><td>130</td><td>236</td><td>0</td><td>2</td><td>174</td><td>0</td><td>0.0</td><td>2</td><td>1.0</td><td>3.0</td><td>1</td><td>1</td></tr>\n",
       "\t<tr><td>38</td><td>1</td><td>3</td><td>138</td><td>175</td><td>0</td><td>0</td><td>173</td><td>0</td><td>0.0</td><td>1</td><td>?  </td><td>3.0</td><td>0</td><td>0</td></tr>\n",
       "</tbody>\n",
       "</table>\n"
      ],
      "text/latex": [
       "A tibble: 303 × 15\n",
       "\\begin{tabular}{lllllllllllllll}\n",
       " age & sex & chest\\_pain\\_type & resting\\_blood\\_pressure & cholesterol\\_level & high\\_fasting\\_blood\\_sugar & resting\\_ecg\\_results & max\\_heart\\_rate & exercise\\_induced\\_angina & ST\\_depression\\_induced\\_by\\_exercise & slope\\_of\\_peak\\_exercise\\_ST\\_segment & num\\_blood\\_vessels\\_colored & thal & diagnosis\\_old & diagnosis\\\\\n",
       " <dbl> & <fct> & <fct> & <dbl> & <dbl> & <fct> & <fct> & <dbl> & <fct> & <dbl> & <fct> & <fct> & <fct> & <fct> & <fct>\\\\\n",
       "\\hline\n",
       "\t 63 & 1 & 1 & 145 & 233 & 1 & 2 & 150 & 0 & 2.3 & 3 & 0.0 & 6.0 & 0 & 0\\\\\n",
       "\t 67 & 1 & 4 & 160 & 286 & 0 & 2 & 108 & 1 & 1.5 & 2 & 3.0 & 3.0 & 2 & 1\\\\\n",
       "\t 67 & 1 & 4 & 120 & 229 & 0 & 2 & 129 & 1 & 2.6 & 2 & 2.0 & 7.0 & 1 & 1\\\\\n",
       "\t ⋮ & ⋮ & ⋮ & ⋮ & ⋮ & ⋮ & ⋮ & ⋮ & ⋮ & ⋮ & ⋮ & ⋮ & ⋮ & ⋮ & ⋮\\\\\n",
       "\t 57 & 1 & 4 & 130 & 131 & 0 & 0 & 115 & 1 & 1.2 & 2 & 1.0 & 7.0 & 3 & 1\\\\\n",
       "\t 57 & 0 & 2 & 130 & 236 & 0 & 2 & 174 & 0 & 0.0 & 2 & 1.0 & 3.0 & 1 & 1\\\\\n",
       "\t 38 & 1 & 3 & 138 & 175 & 0 & 0 & 173 & 0 & 0.0 & 1 & ?   & 3.0 & 0 & 0\\\\\n",
       "\\end{tabular}\n"
      ],
      "text/markdown": [
       "\n",
       "A tibble: 303 × 15\n",
       "\n",
       "| age &lt;dbl&gt; | sex &lt;fct&gt; | chest_pain_type &lt;fct&gt; | resting_blood_pressure &lt;dbl&gt; | cholesterol_level &lt;dbl&gt; | high_fasting_blood_sugar &lt;fct&gt; | resting_ecg_results &lt;fct&gt; | max_heart_rate &lt;dbl&gt; | exercise_induced_angina &lt;fct&gt; | ST_depression_induced_by_exercise &lt;dbl&gt; | slope_of_peak_exercise_ST_segment &lt;fct&gt; | num_blood_vessels_colored &lt;fct&gt; | thal &lt;fct&gt; | diagnosis_old &lt;fct&gt; | diagnosis &lt;fct&gt; |\n",
       "|---|---|---|---|---|---|---|---|---|---|---|---|---|---|---|\n",
       "| 63 | 1 | 1 | 145 | 233 | 1 | 2 | 150 | 0 | 2.3 | 3 | 0.0 | 6.0 | 0 | 0 |\n",
       "| 67 | 1 | 4 | 160 | 286 | 0 | 2 | 108 | 1 | 1.5 | 2 | 3.0 | 3.0 | 2 | 1 |\n",
       "| 67 | 1 | 4 | 120 | 229 | 0 | 2 | 129 | 1 | 2.6 | 2 | 2.0 | 7.0 | 1 | 1 |\n",
       "| ⋮ | ⋮ | ⋮ | ⋮ | ⋮ | ⋮ | ⋮ | ⋮ | ⋮ | ⋮ | ⋮ | ⋮ | ⋮ | ⋮ | ⋮ |\n",
       "| 57 | 1 | 4 | 130 | 131 | 0 | 0 | 115 | 1 | 1.2 | 2 | 1.0 | 7.0 | 3 | 1 |\n",
       "| 57 | 0 | 2 | 130 | 236 | 0 | 2 | 174 | 0 | 0.0 | 2 | 1.0 | 3.0 | 1 | 1 |\n",
       "| 38 | 1 | 3 | 138 | 175 | 0 | 0 | 173 | 0 | 0.0 | 1 | ?   | 3.0 | 0 | 0 |\n",
       "\n"
      ],
      "text/plain": [
       "    age sex chest_pain_type resting_blood_pressure cholesterol_level\n",
       "1   63  1   1               145                    233              \n",
       "2   67  1   4               160                    286              \n",
       "3   67  1   4               120                    229              \n",
       "⋮   ⋮   ⋮   ⋮               ⋮                      ⋮                \n",
       "301 57  1   4               130                    131              \n",
       "302 57  0   2               130                    236              \n",
       "303 38  1   3               138                    175              \n",
       "    high_fasting_blood_sugar resting_ecg_results max_heart_rate\n",
       "1   1                        2                   150           \n",
       "2   0                        2                   108           \n",
       "3   0                        2                   129           \n",
       "⋮   ⋮                        ⋮                   ⋮             \n",
       "301 0                        0                   115           \n",
       "302 0                        2                   174           \n",
       "303 0                        0                   173           \n",
       "    exercise_induced_angina ST_depression_induced_by_exercise\n",
       "1   0                       2.3                              \n",
       "2   1                       1.5                              \n",
       "3   1                       2.6                              \n",
       "⋮   ⋮                       ⋮                                \n",
       "301 1                       1.2                              \n",
       "302 0                       0.0                              \n",
       "303 0                       0.0                              \n",
       "    slope_of_peak_exercise_ST_segment num_blood_vessels_colored thal\n",
       "1   3                                 0.0                       6.0 \n",
       "2   2                                 3.0                       3.0 \n",
       "3   2                                 2.0                       7.0 \n",
       "⋮   ⋮                                 ⋮                         ⋮   \n",
       "301 2                                 1.0                       7.0 \n",
       "302 2                                 1.0                       3.0 \n",
       "303 1                                 ?                         3.0 \n",
       "    diagnosis_old diagnosis\n",
       "1   0             0        \n",
       "2   2             1        \n",
       "3   1             1        \n",
       "⋮   ⋮             ⋮        \n",
       "301 3             1        \n",
       "302 1             1        \n",
       "303 0             0        "
      ]
     },
     "metadata": {},
     "output_type": "display_data"
    }
   ],
   "source": [
    "heart_disease_data <- mutated_heart_disease |>\n",
    "                mutate(diagnosis= ifelse(diagnosis_old>0,1,0)) |>\n",
    "                mutate(diagnosis_old = as_factor(diagnosis_old)) |>\n",
    "                mutate(diagnosis = as_factor(diagnosis))\n",
    "heart_disease_data"
   ]
  },
  {
   "cell_type": "markdown",
   "id": "11c56d4b",
   "metadata": {},
   "source": [
    "### Exploratory Data Analysis"
   ]
  },
  {
   "cell_type": "code",
   "execution_count": 4,
   "id": "8b1541e6-46e0-4010-b817-76980dad539d",
   "metadata": {},
   "outputs": [
    {
     "data": {
      "image/png": "[encoded data removed]",
      "text/plain": [
       "Plot with title “Pie Chart of Diagnosis”"
      ]
     },
     "metadata": {
      "image/png": {
       "height": 420,
       "width": 420
      }
     },
     "output_type": "display_data"
    }
   ],
   "source": [
    "diagnosis_count <- heart_disease_data |>\n",
    "    group_by(diagnosis) |>\n",
    "    summarize(count = n()) |>\n",
    "    pull(count)\n",
    "\n",
    "diagnosis_pie <- pie(diagnosis_count, labels = c(\"No Diagnosis\", \"Diagnosis\"), main = \"Pie Chart of Diagnosis\")"
   ]
  },
  {
   "cell_type": "markdown",
   "id": "bfb16649-610e-4044-b344-719b9253134a",
   "metadata": {},
   "source": [
    "This pie chart above shows the proportion of people that are diagnosed and not diagnosed. A little less than half of our sample is diagnosed with heart disease of various severity. "
   ]
  },
  {
   "cell_type": "markdown",
   "id": "fa738c90",
   "metadata": {},
   "source": [
    "**I BELIEVE WE HAVE THIS IN OUR PROPOSAL?**"
   ]
  },
  {
   "cell_type": "markdown",
   "id": "057a9c60",
   "metadata": {},
   "source": [
    "### Splitting the Data"
   ]
  },
  {
   "cell_type": "markdown",
   "id": "662ba697",
   "metadata": {},
   "source": [
    "We now split the data into training and testing sets, using a proportion of 0.75 so that our training set will contain 75% of the data points and our testing set will contain 25%. We will also be using set.seed() to ensure that our results are reproducible."
   ]
  },
  {
   "cell_type": "code",
   "execution_count": 5,
   "id": "086d1869",
   "metadata": {},
   "outputs": [],
   "source": [
    "set.seed(1000)\n",
    "\n",
    "heart_split <- initial_split(heart_disease_data, prop = 0.75, strata = diagnosis)\n",
    "heart_training <- training(heart_split)\n",
    "heart_testing <- testing(heart_split)"
   ]
  },
  {
   "cell_type": "markdown",
   "id": "ccf0816c-fd8a-4f70-8bc3-630eb149b376",
   "metadata": {},
   "source": [
    "### Distribution of Predictor Variables (Training Data)"
   ]
  },
  {
   "cell_type": "markdown",
   "id": "1a9dcf26-d998-479a-922d-0bf92edc6cca",
   "metadata": {},
   "source": [
    "Before undertaking the analysis, let us visualize the distributions of our predictor variables in order to see if there are any trends or patterns that pop out. These trends may help us to better predict/understand the outcome of our classifier."
   ]
  },
  {
   "cell_type": "code",
   "execution_count": null,
   "id": "70039af3-de95-42d2-be8c-35ed038abadf",
   "metadata": {},
   "outputs": [
    {
     "data": {
      "image/png": "[encoded data removed]",
      "text/plain": [
       "plot without title"
      ]
     },
     "metadata": {
      "image/png": {
       "height": 300,
       "width": 540
      }
     },
     "output_type": "display_data"
    }
   ],
   "source": [
    "options(repr.plot.width=9,repr.plot.height=5)\n",
    "\n",
    "heart_plot <- heart_training |>\n",
    "            ggplot(aes(x=age,y=max_heart_rate,color=diagnosis)) +\n",
    "            geom_point() +\n",
    "            ggtitle(\"Age vs. Max Heart Rate, Coloured by Diagnosis\") +\n",
    "            labs(x=\"Age\",\n",
    "                 y=\"Max Heart Rate\",\n",
    "                 color=\"Diagnosis (0 is negative)\")\n",
    "\n",
    "cholesterol_plot <- heart_training |>\n",
    "            ggplot(aes(x=max_heart_rate,y=cholesterol_level,color=diagnosis)) +\n",
    "            geom_point() +\n",
    "            ggtitle(\"Max Heart Rate vs. Cholesterol, Coloured by Diagnosis\") +\n",
    "            labs(x=\"Max Heart Rate\",\n",
    "                 y=\"Cholesterol Level\",\n",
    "                 color=\"Diagnosis (0 is negative)\")\n",
    "\n",
    "hr_distribution_plot <- ggplot(heart_training, aes(x=max_heart_rate, color = diagnosis)) +\n",
    "    geom_histogram(fill=\"white\", alpha=0.5, position=\"identity\", binwidth=5) +\n",
    "    labs(x= \"Maximum Heart Rate\",y=\"Count\", color = \"Diagnosis\") +\n",
    "    ggtitle(\"Distribution of Max Heart Rate for Individual with/without Heart Disease\")\n",
    "\n",
    "\n",
    "heart_plot\n",
    "cholesterol_plot\n",
    "hr_distribution_plot"
   ]
  },
  {
   "cell_type": "markdown",
   "id": "c6c6bf2f-7ec0-41af-bebe-a77d67033697",
   "metadata": {},
   "source": [
    "While no immediately obvious divides appear here, the first plot seems to hint that heart disease may be positively correlated with age, and negatively with max heart rate under stress. The middle plot reinforces the role of max heart rate, as does the histogram plot."
   ]
  },
  {
   "cell_type": "markdown",
   "id": "4689b831",
   "metadata": {
    "tags": []
   },
   "source": [
    "### Creating the Recipe and Model"
   ]
  },
  {
   "cell_type": "markdown",
   "id": "e0e48856",
   "metadata": {},
   "source": [
    "We create a recipe to predict the diagnosis based on four different quantitative variables- age, maximum heart rate, cholesterol level and resting blood pressure. We standardize our data and set the mean of the variables equal to 0, & the standard deviation equal to 1. \n",
    "We will also create a k-nearest neighbors classification model using our training data, where we will tune our number of neighbors to find the best value of K. "
   ]
  },
  {
   "cell_type": "code",
   "execution_count": null,
   "id": "6f195646",
   "metadata": {},
   "outputs": [],
   "source": [
    "heart_recipe <- recipe(diagnosis ~ age + max_heart_rate + cholesterol_level + resting_blood_pressure, data = heart_training) |>\n",
    "                step_scale(all_predictors()) |>\n",
    "                step_center(all_predictors())\n",
    "\n",
    "knn_spec <- nearest_neighbor(weight_func = \"rectangular\", neighbors = tune()) |>\n",
    "              set_engine(\"kknn\") |>\n",
    "              set_mode(\"classification\")\n",
    "\n",
    "\n",
    "heart_recipe\n",
    "knn_spec"
   ]
  },
  {
   "cell_type": "markdown",
   "id": "ff23dfd5",
   "metadata": {
    "tags": []
   },
   "source": [
    "### Performing Cross-Validation"
   ]
  },
  {
   "cell_type": "markdown",
   "id": "36f3beaf",
   "metadata": {},
   "source": [
    "We will now perform cross validation. Cross validation involves comparing the acuracy of the classifier (that was trained on the training data) for different values of K. Here, we perform a 5-fold cross validation to determine the best value of K. We create a workflow with our recipe and model, and find the accuracy for different values of K. We finally determine the value of K with the largest accuracy. "
   ]
  },
  {
   "cell_type": "code",
   "execution_count": null,
   "id": "a733d301",
   "metadata": {},
   "outputs": [],
   "source": [
    "set.seed(123)\n",
    "\n",
    "heart_vfold <- vfold_cv(heart_training, v = 5, strata = diagnosis)\n",
    "\n",
    "gridvals <- tibble(neighbors = seq(from = 1, to = 100, by = 2)) \n",
    "\n",
    "knn_results <- workflow() |>\n",
    "  add_recipe(heart_recipe) |>\n",
    "  add_model(knn_spec) |>\n",
    "  tune_grid(resamples = heart_vfold, grid = gridvals) |>\n",
    "  collect_metrics()"
   ]
  },
  {
   "cell_type": "markdown",
   "id": "934b31c5",
   "metadata": {},
   "source": [
    "### Visualizing Cross-Validation Results"
   ]
  },
  {
   "cell_type": "markdown",
   "id": "9005adda-201a-4f0f-87e8-702752c6c1ef",
   "metadata": {},
   "source": [
    "To choose the best value of K, we will now visulaize our results using a line and scatterplot. The best value of K will be the value with a relatively high accuarcy and where changing the k value to a nearby value will not decrease the accuracy much. We will also try to choose a K value that is not computationally expensibve,i.e, doesn't take very long to process.  "
   ]
  },
  {
   "cell_type": "code",
   "execution_count": null,
   "id": "21fa7dfe",
   "metadata": {},
   "outputs": [],
   "source": [
    "accuracies <- knn_results |>\n",
    "    filter(.metric == \"accuracy\") |>\n",
    "    arrange(desc(mean))\n",
    "\n",
    "cross_val_plot <- accuracies |> \n",
    "    ggplot(aes(x = neighbors, y = mean)) +\n",
    "    geom_point() +\n",
    "    geom_line() +\n",
    "    labs(x = \"Neighbors\", y = \"Accuracy Estimate\") +\n",
    "    theme(text = element_text(size = 20))\n",
    "\n",
    "k_best <- knn_results |>\n",
    "   filter(.metric == \"accuracy\") |>\n",
    "   arrange(.metric) |> \n",
    "   filter(mean == max(mean)) |>\n",
    "   pull(neighbors)\n",
    "\n",
    "cross_val_plot\n",
    "accuracies\n",
    "k_best"
   ]
  },
  {
   "cell_type": "markdown",
   "id": "9f40d6ef-e8c4-48a2-a2d5-5d777309fdb0",
   "metadata": {},
   "source": [
    "We can see above that k = 37 yields the best accuracy, with an accuracy of around 70%, while nearby values of k drop to around 67%. k = 37 also exists within a sort of \"plateau\" in accuracy, near the center of other elevated accuracy values."
   ]
  },
  {
   "cell_type": "markdown",
   "id": "690439e6",
   "metadata": {},
   "source": [
    "### Re-training the model"
   ]
  },
  {
   "cell_type": "markdown",
   "id": "ade7e17f",
   "metadata": {},
   "source": [
    "Now that we have identified our best value of k, we can use it to re-train our K-Nearest Neighbours Classification model. "
   ]
  },
  {
   "cell_type": "code",
   "execution_count": null,
   "id": "06babb10",
   "metadata": {},
   "outputs": [],
   "source": [
    "knn_best_spec <- nearest_neighbor(weight_func = \"rectangular\", neighbors = k_best) |>\n",
    "              set_engine(\"kknn\") |>\n",
    "              set_mode(\"classification\")\n",
    "\n",
    "heart_disease_fit <- workflow() |>\n",
    "        add_recipe(heart_recipe) |>\n",
    "        add_model(knn_best_spec) |>\n",
    "        fit(data=heart_training)\n",
    "\n",
    "heart_disease_fit"
   ]
  },
  {
   "cell_type": "markdown",
   "id": "1e61b00d",
   "metadata": {},
   "source": [
    "### Predicting on Testing Data and Calculating Accuracy Estimate"
   ]
  },
  {
   "cell_type": "markdown",
   "id": "e35f0bc2-40ee-49f2-8442-a59c7776ec4f",
   "metadata": {},
   "source": [
    "Now that we have our model, we will use this to predict the values in our testing set. We will also find an accuracy estimate for our predictor."
   ]
  },
  {
   "cell_type": "code",
   "execution_count": null,
   "id": "7b8fb8dc",
   "metadata": {},
   "outputs": [],
   "source": [
    "heart_predictions <- predict(heart_disease_fit, heart_testing) |>\n",
    "                     bind_cols(heart_testing)\n",
    "\n",
    "heart_metrics <- heart_predictions |>\n",
    "                metrics(truth=diagnosis,estimate=.pred_class)\n",
    "\n",
    "heart_metrics"
   ]
  },
  {
   "cell_type": "markdown",
   "id": "db62596f-0534-47e9-ada0-4c0d5ff8569b",
   "metadata": {},
   "source": [
    "As shown above, our k-nearest neighbors classification model has an accuracy estimate of about 0.6447. "
   ]
  },
  {
   "cell_type": "code",
   "execution_count": null,
   "id": "0ea957ba-6a67-4c2d-9903-4512c265a143",
   "metadata": {},
   "outputs": [],
   "source": [
    "options(repr.plot.width = 9, repr.plot.height = 6)\n",
    "\n",
    "cholesterol_plot <- heart_training |>\n",
    "            ggplot(aes(x=max_heart_rate,y=cholesterol_level,color=diagnosis)) +\n",
    "            geom_point() +\n",
    "            ggtitle(\"Max Heart Rate vs. Cholesterol, Coloured by Diagnosis\") +\n",
    "            labs(x=\"Max Heart Rate\",\n",
    "                 y=\"Cholesterol Level\",\n",
    "                 color=\"Diagnosis (0 is negative)\")\n",
    "cholesterol_plot"
   ]
  },
  {
   "cell_type": "markdown",
   "id": "c436fe9a-48c8-4046-be37-d5cfe3c4b1dc",
   "metadata": {},
   "source": [
    "### Confusion Matrix of Results"
   ]
  },
  {
   "cell_type": "code",
   "execution_count": null,
   "id": "67de959e-e5ac-47fd-8b32-540c30424d4c",
   "metadata": {},
   "outputs": [],
   "source": [
    "heart_cf <- conf_mat(heart_test_predictions, truth = diagnosis, estimate = .pred_class)"
   ]
  },
  {
   "cell_type": "code",
   "execution_count": null,
   "id": "da1d79a2-7f8a-45e5-9591-617bd8810650",
   "metadata": {},
   "outputs": [],
   "source": [
    "# Code below adapted from section 5.8 of DSCI textbook\n",
    "\n",
    "# create the grid of area/smoothness vals, and arrange in a data frame\n",
    "\n",
    "hr_grid <- seq(min(heart_test_predictions$max_heart_rate), \n",
    "                max(heart_test_predictions$max_heart_rate), \n",
    "                length.out = 100)\n",
    "chol_grid <- seq(min(heart_test_predictions$cholesterol_level), \n",
    "                max(heart_test_predictions$cholesterol_level), \n",
    "                length.out = 100)\n",
    "age_grid <- seq(min(heart_test_predictions$age), \n",
    "                max(heart_test_predictions$age), \n",
    "                length.out = 100)\n",
    "rbp_grid <- seq(min(heart_test_predictions$resting_blood_pressure), \n",
    "                max(heart_test_predictions$resting_blood_pressure), \n",
    "                length.out = 100)\n",
    "asgrid <- as_tibble(expand.grid(max_heart_rate = hr_grid,\n",
    "                                cholesterol_level = chol_grid,\n",
    "                               age = age_grid,\n",
    "                               resting_blood_pressure = rbp_grid))\n",
    "\n",
    "# use the fit workflow to make predictions at the grid points\n",
    "knnPredGrid <- predict(knn_best_fit, asgrid)\n",
    "\n",
    "# bind the predictions as a new column with the grid points\n",
    "prediction_table <- bind_cols(knnPredGrid, asgrid) |> \n",
    "  rename(Class = .pred_class)\n",
    "\n",
    "# plot:\n",
    "# 1. the colored scatter of the original data\n",
    "# 2. the faded colored scatter for the grid points\n",
    "wkflw_plot <-\n",
    "  ggplot() +\n",
    "  geom_point(data = heart_test_predictions, \n",
    "             mapping = aes(x = max_heart_rate, \n",
    "                           y = cholesterol_level, \n",
    "                           color = Class), \n",
    "             alpha = 0.75) +\n",
    "  geom_point(data = prediction_table, \n",
    "             mapping = aes(x = max_heart_rate, \n",
    "                           y = cholesterol_level, \n",
    "                           color = Class), \n",
    "             alpha = 0.02, \n",
    "             size = 5) +\n",
    "  labs(color = \"Diagnosis\", \n",
    "       x = \"Max Heart Rate (standardized)\", \n",
    "       y = \"Cholesterol Level (standardized)\") +\n",
    "  scale_color_manual(labels = c(\"Yes\", \"No\"), \n",
    "                     values = c(\"orange2\", \"steelblue2\")) +\n",
    "  theme(text = element_text(size = 12))\n",
    "\n",
    "wkflw_plot\n",
    "\n",
    "\n",
    "### IF ANY CAN FIGURE OUT HOW TO MAKE WORK W OUR 5 PREDICTORS, PLS DO THANK U THANK U"
   ]
  },
  {
   "cell_type": "markdown",
   "id": "27b35ecc",
   "metadata": {},
   "source": [
    "\n",
    "visualize results here"
   ]
  },
  {
   "cell_type": "markdown",
   "id": "b9db8ffa",
   "metadata": {},
   "source": [
    "## Discussion"
   ]
  },
  {
   "cell_type": "markdown",
   "id": "de0b1138",
   "metadata": {},
   "source": [
    "\n",
    "We expect to find a relationship between our age, maximum heart rate, cholesterol level & blood pressure, and the diagnosis of heart disease. We hypothesize that we will be able to accurately predict if someone has heart disease based on specific values of these variables. Heart disease is one of the leading causes of mortality around the world. Being able to predict if someone has heart disease accurately is important because it can allow us to diagnose heart disease early and prevent life threats. Clinicians will be able to give treatment without any serious effects. Our findings can also tell us what factors are correlated with heart disease and, upon further research, how we can adjust our lifestyle to prevent severe illness.\n",
    "\n",
    "Our analysis can lead to several questions, such as:\n",
    "\n",
    "How strongly are our variables related to heart disease? Does one variable have a greater impact on the prevalence of heart disease than another?\n",
    "What are the optimal ranges for blood pressure and cholesterol levels (at each age range) to prevent heart disease?\n",
    "Are there any confounding variables that could be affecting our findings?\n",
    "How can our findings be extended to individuals in other parts of the world? Would geographic location impact the accuracy of our model?\n",
    "How do genetics play a role in the diagnosis of heart disease?"
   ]
  },
  {
   "cell_type": "markdown",
   "id": "0d9c3512-28b1-4250-8dda-194f87f77ada",
   "metadata": {},
   "source": [
    "**Above was our proposal discussion. Can we reword it, now that we know the outcome of our predictor? can we answer any of the follow up questions? Do more questions arise?**"
   ]
  },
  {
   "cell_type": "markdown",
   "id": "c791838a",
   "metadata": {},
   "source": [
    "## References"
   ]
  },
  {
   "cell_type": "markdown",
   "id": "98a961d3-933b-4c1c-9baa-e2b5a3d0f711",
   "metadata": {},
   "source": [
    "\n",
    "At least 2 citations of literature relevant to the project (format is your choice, just be consistent across the references).\n",
    "Make sure to cite the source of your data as well."
   ]
  },
  {
   "cell_type": "markdown",
   "id": "d8fd8dce-df32-4099-8157-af03fb5e6934",
   "metadata": {},
   "source": [
    "Dataset Source:\n",
    "\n",
    "https://archive.ics.uci.edu/ml/datasets/Heart+Disease\n",
    "\n",
    "\n",
    "Thomas, Jen. Heart Disease: Facts, Statistics and You. Healthline.\n",
    "\n",
    "https://www.healthline.com/health/heart-disease/statistics#Who-is-at-risk"
   ]
  },
  {
   "cell_type": "markdown",
   "id": "f79ee772-ab2d-4d42-9455-824b08b7edb0",
   "metadata": {},
   "source": [
    "**NEED ONE MORE ARTICLE CITATION, maybe in discussion?**"
   ]
  }
 ],
 "metadata": {
  "kernelspec": {
   "display_name": "R",
   "language": "R",
   "name": "ir"
  },
  "language_info": {
   "codemirror_mode": "r",
   "file_extension": ".r",
   "mimetype": "text/x-r-source",
   "name": "R",
   "pygments_lexer": "r",
   "version": "4.1.3"
  }
 },
 "nbformat": 4,
 "nbformat_minor": 5
}
