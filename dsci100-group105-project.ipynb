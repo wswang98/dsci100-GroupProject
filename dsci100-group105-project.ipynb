{
 "cells": [
  {
   "cell_type": "markdown",
   "id": "b9de3164-fe23-4bff-b311-2d32d721014f",
   "metadata": {},
   "source": [
    "# Predicting Presence of Heart Disease test"
   ]
  },
  {
   "cell_type": "markdown",
   "id": "3fddf2a1-7a29-4dd2-9209-12f72c8cb000",
   "metadata": {},
   "source": [
    "## Introduction"
   ]
  },
  {
   "cell_type": "markdown",
   "id": "c1728d33-b30e-4063-a682-9bf36531e0c3",
   "metadata": {},
   "source": [
    "Heart disease refers to various conditions that affect the heart, including blood vessel disease, irregular heartbeats, heart valve disease, etc. It is responsible for 1 in 4 deaths worldwide across all races and genders, making it one of the major causes of death. Heart disease is sometimes referred to as “silent” because, in many cases, it is not diagnosed until the individual experiences signs or symptoms of a heart attack or heart failure. Since it is difficult to diagnose heart disease before more severe symptoms start to appear, our goal is to predict heart disease diagnosis based on known risk factors like high blood pressure and high cholesterol, so that heart disease can be caught even before symptoms start to appear. By detecting heart disease before symptoms begin to appear, patients can receive the right treatment ahead of time and have a greater chance of survival. \n",
    "\n",
    "The dataset we are using is a Heart Disease Data Set (Janosi et al.) that contains information about a person's age, sex, other medical factors and whether the individual was diagnosed with heart disease. The dataset contains 13 variables for which observations were collected and a diagnosis column which is the categorical class we are predicting."
   ]
  },
  {
   "cell_type": "markdown",
   "id": "0f18ae7b-9b3e-4c14-9b04-bb459dc78366",
   "metadata": {},
   "source": [
    "**WILL NEED TO ADD MORE I THINK**"
   ]
  },
  {
   "cell_type": "markdown",
   "id": "fceb8dbd-c440-4fda-a61e-45d6988c0d52",
   "metadata": {},
   "source": [
    "## Method"
   ]
  },
  {
   "cell_type": "markdown",
   "id": "72ec6f28-b37b-4d8d-bdc3-28b1165660ef",
   "metadata": {},
   "source": [
    "Out of the 13 variables in our dataset, five were numerical. We chose to use four of these five: age, max heart rate, resting blood pressure and cholesterol levels. The fifth, which looks at ST wave depressions caused by exercise, was omitted because it is too complex for our needs, and correctly interpreting its meaning requires significant understanding of the biology of the heart.\n",
    "\n",
    "In order to predict the presence of heart disease, we will use a classification model, trained on the four predictor variables mentioned above. One way we plan to visualize the results is using scatter plots comparing two predictors, with data points colored by diagnosis, and a background color indicating the prediction of the classifier (end of section 5.8 in the textbook)."
   ]
  },
  {
   "cell_type": "code",
   "execution_count": 1,
   "id": "763b386d-edfe-41ba-8412-29c29088517f",
   "metadata": {},
   "outputs": [
    {
     "name": "stderr",
     "output_type": "stream",
     "text": [
      "── \u001b[1mAttaching packages\u001b[22m ─────────────────────────────────────── tidyverse 1.3.1 ──\n",
      "\n",
      "\u001b[32m✔\u001b[39m \u001b[34mggplot2\u001b[39m 3.3.6     \u001b[32m✔\u001b[39m \u001b[34mpurrr  \u001b[39m 0.3.4\n",
      "\u001b[32m✔\u001b[39m \u001b[34mtibble \u001b[39m 3.1.7     \u001b[32m✔\u001b[39m \u001b[34mdplyr  \u001b[39m 1.0.9\n",
      "\u001b[32m✔\u001b[39m \u001b[34mtidyr  \u001b[39m 1.2.0     \u001b[32m✔\u001b[39m \u001b[34mstringr\u001b[39m 1.4.0\n",
      "\u001b[32m✔\u001b[39m \u001b[34mreadr  \u001b[39m 2.1.2     \u001b[32m✔\u001b[39m \u001b[34mforcats\u001b[39m 0.5.1\n",
      "\n",
      "── \u001b[1mConflicts\u001b[22m ────────────────────────────────────────── tidyverse_conflicts() ──\n",
      "\u001b[31m✖\u001b[39m \u001b[34mdplyr\u001b[39m::\u001b[32mfilter()\u001b[39m masks \u001b[34mstats\u001b[39m::filter()\n",
      "\u001b[31m✖\u001b[39m \u001b[34mdplyr\u001b[39m::\u001b[32mlag()\u001b[39m    masks \u001b[34mstats\u001b[39m::lag()\n",
      "\n",
      "── \u001b[1mAttaching packages\u001b[22m ────────────────────────────────────── tidymodels 1.0.0 ──\n",
      "\n",
      "\u001b[32m✔\u001b[39m \u001b[34mbroom       \u001b[39m 1.0.0     \u001b[32m✔\u001b[39m \u001b[34mrsample     \u001b[39m 1.0.0\n",
      "\u001b[32m✔\u001b[39m \u001b[34mdials       \u001b[39m 1.0.0     \u001b[32m✔\u001b[39m \u001b[34mtune        \u001b[39m 1.0.0\n",
      "\u001b[32m✔\u001b[39m \u001b[34minfer       \u001b[39m 1.0.2     \u001b[32m✔\u001b[39m \u001b[34mworkflows   \u001b[39m 1.0.0\n",
      "\u001b[32m✔\u001b[39m \u001b[34mmodeldata   \u001b[39m 1.0.0     \u001b[32m✔\u001b[39m \u001b[34mworkflowsets\u001b[39m 1.0.0\n",
      "\u001b[32m✔\u001b[39m \u001b[34mparsnip     \u001b[39m 1.0.0     \u001b[32m✔\u001b[39m \u001b[34myardstick   \u001b[39m 1.0.0\n",
      "\u001b[32m✔\u001b[39m \u001b[34mrecipes     \u001b[39m 1.0.1     \n",
      "\n",
      "── \u001b[1mConflicts\u001b[22m ───────────────────────────────────────── tidymodels_conflicts() ──\n",
      "\u001b[31m✖\u001b[39m \u001b[34mscales\u001b[39m::\u001b[32mdiscard()\u001b[39m masks \u001b[34mpurrr\u001b[39m::discard()\n",
      "\u001b[31m✖\u001b[39m \u001b[34mdplyr\u001b[39m::\u001b[32mfilter()\u001b[39m   masks \u001b[34mstats\u001b[39m::filter()\n",
      "\u001b[31m✖\u001b[39m \u001b[34mrecipes\u001b[39m::\u001b[32mfixed()\u001b[39m  masks \u001b[34mstringr\u001b[39m::fixed()\n",
      "\u001b[31m✖\u001b[39m \u001b[34mdplyr\u001b[39m::\u001b[32mlag()\u001b[39m      masks \u001b[34mstats\u001b[39m::lag()\n",
      "\u001b[31m✖\u001b[39m \u001b[34myardstick\u001b[39m::\u001b[32mspec()\u001b[39m masks \u001b[34mreadr\u001b[39m::spec()\n",
      "\u001b[31m✖\u001b[39m \u001b[34mrecipes\u001b[39m::\u001b[32mstep()\u001b[39m   masks \u001b[34mstats\u001b[39m::step()\n",
      "\u001b[34m•\u001b[39m Search for functions across packages at \u001b[32mhttps://www.tidymodels.org/find/\u001b[39m\n",
      "\n"
     ]
    }
   ],
   "source": [
    "#run this cell before continuing\n",
    "library(tidyverse)\n",
    "library(tidymodels)\n",
    "options(repr.matrix.max.rows = 6)"
   ]
  },
  {
   "cell_type": "markdown",
   "id": "e81c1c4c-a5ae-4a13-8c7f-65af3ce80311",
   "metadata": {},
   "source": [
    "### Data Tidying ###"
   ]
  },
  {
   "cell_type": "markdown",
   "id": "53f996ee-2eb9-45e5-aa7c-289d43d07a6e",
   "metadata": {},
   "source": [
    "We begin by importing our dataset and assigning names to the columns, which are given on the <a href=https://archive.ics.uci.edu/ml/datasets/Heart+Disease>dataset's website<a> but not included in the file. We also set many of the predictor variables to factors, since they are incorrectly imported as numeric."
   ]
  },
  {
   "cell_type": "code",
   "execution_count": 2,
   "id": "c27476cd-a7b4-45af-b818-7a50249b842d",
   "metadata": {},
   "outputs": [
    {
     "name": "stderr",
     "output_type": "stream",
     "text": [
      "\u001b[1mRows: \u001b[22m\u001b[34m303\u001b[39m \u001b[1mColumns: \u001b[22m\u001b[34m14\u001b[39m\n",
      "\u001b[36m──\u001b[39m \u001b[1mColumn specification\u001b[22m \u001b[36m────────────────────────────────────────────────────────\u001b[39m\n",
      "\u001b[1mDelimiter:\u001b[22m \",\"\n",
      "\u001b[31mchr\u001b[39m  (2): num_blood_vessels_colored, thal\n",
      "\u001b[32mdbl\u001b[39m (12): age, sex, chest_pain_type, resting_blood_pressure, cholesterol_lev...\n",
      "\n",
      "\u001b[36mℹ\u001b[39m Use `spec()` to retrieve the full column specification for this data.\n",
      "\u001b[36mℹ\u001b[39m Specify the column types or set `show_col_types = FALSE` to quiet this message.\n"
     ]
    },
    {
     "data": {
      "text/html": [
       "<table class=\"dataframe\">\n",
       "<caption>A tibble: 303 × 14</caption>\n",
       "<thead>\n",
       "\t<tr><th scope=col>age</th><th scope=col>sex</th><th scope=col>chest_pain_type</th><th scope=col>resting_blood_pressure</th><th scope=col>cholesterol_level</th><th scope=col>high_fasting_blood_sugar</th><th scope=col>resting_ecg_results</th><th scope=col>max_heart_rate</th><th scope=col>exercise_induced_angina</th><th scope=col>ST_depression_induced_by_exercise</th><th scope=col>slope_of_peak_exercise_ST_segment</th><th scope=col>num_blood_vessels_colored</th><th scope=col>thal</th><th scope=col>diagnosis_old</th></tr>\n",
       "\t<tr><th scope=col>&lt;dbl&gt;</th><th scope=col>&lt;fct&gt;</th><th scope=col>&lt;fct&gt;</th><th scope=col>&lt;dbl&gt;</th><th scope=col>&lt;dbl&gt;</th><th scope=col>&lt;fct&gt;</th><th scope=col>&lt;fct&gt;</th><th scope=col>&lt;dbl&gt;</th><th scope=col>&lt;fct&gt;</th><th scope=col>&lt;dbl&gt;</th><th scope=col>&lt;fct&gt;</th><th scope=col>&lt;fct&gt;</th><th scope=col>&lt;fct&gt;</th><th scope=col>&lt;dbl&gt;</th></tr>\n",
       "</thead>\n",
       "<tbody>\n",
       "\t<tr><td>63</td><td>1</td><td>1</td><td>145</td><td>233</td><td>1</td><td>2</td><td>150</td><td>0</td><td>2.3</td><td>3</td><td>0.0</td><td>6.0</td><td>0</td></tr>\n",
       "\t<tr><td>67</td><td>1</td><td>4</td><td>160</td><td>286</td><td>0</td><td>2</td><td>108</td><td>1</td><td>1.5</td><td>2</td><td>3.0</td><td>3.0</td><td>2</td></tr>\n",
       "\t<tr><td>67</td><td>1</td><td>4</td><td>120</td><td>229</td><td>0</td><td>2</td><td>129</td><td>1</td><td>2.6</td><td>2</td><td>2.0</td><td>7.0</td><td>1</td></tr>\n",
       "\t<tr><td>⋮</td><td>⋮</td><td>⋮</td><td>⋮</td><td>⋮</td><td>⋮</td><td>⋮</td><td>⋮</td><td>⋮</td><td>⋮</td><td>⋮</td><td>⋮</td><td>⋮</td><td>⋮</td></tr>\n",
       "\t<tr><td>57</td><td>1</td><td>4</td><td>130</td><td>131</td><td>0</td><td>0</td><td>115</td><td>1</td><td>1.2</td><td>2</td><td>1.0</td><td>7.0</td><td>3</td></tr>\n",
       "\t<tr><td>57</td><td>0</td><td>2</td><td>130</td><td>236</td><td>0</td><td>2</td><td>174</td><td>0</td><td>0.0</td><td>2</td><td>1.0</td><td>3.0</td><td>1</td></tr>\n",
       "\t<tr><td>38</td><td>1</td><td>3</td><td>138</td><td>175</td><td>0</td><td>0</td><td>173</td><td>0</td><td>0.0</td><td>1</td><td>?  </td><td>3.0</td><td>0</td></tr>\n",
       "</tbody>\n",
       "</table>\n"
      ],
      "text/latex": [
       "A tibble: 303 × 14\n",
       "\\begin{tabular}{llllllllllllll}\n",
       " age & sex & chest\\_pain\\_type & resting\\_blood\\_pressure & cholesterol\\_level & high\\_fasting\\_blood\\_sugar & resting\\_ecg\\_results & max\\_heart\\_rate & exercise\\_induced\\_angina & ST\\_depression\\_induced\\_by\\_exercise & slope\\_of\\_peak\\_exercise\\_ST\\_segment & num\\_blood\\_vessels\\_colored & thal & diagnosis\\_old\\\\\n",
       " <dbl> & <fct> & <fct> & <dbl> & <dbl> & <fct> & <fct> & <dbl> & <fct> & <dbl> & <fct> & <fct> & <fct> & <dbl>\\\\\n",
       "\\hline\n",
       "\t 63 & 1 & 1 & 145 & 233 & 1 & 2 & 150 & 0 & 2.3 & 3 & 0.0 & 6.0 & 0\\\\\n",
       "\t 67 & 1 & 4 & 160 & 286 & 0 & 2 & 108 & 1 & 1.5 & 2 & 3.0 & 3.0 & 2\\\\\n",
       "\t 67 & 1 & 4 & 120 & 229 & 0 & 2 & 129 & 1 & 2.6 & 2 & 2.0 & 7.0 & 1\\\\\n",
       "\t ⋮ & ⋮ & ⋮ & ⋮ & ⋮ & ⋮ & ⋮ & ⋮ & ⋮ & ⋮ & ⋮ & ⋮ & ⋮ & ⋮\\\\\n",
       "\t 57 & 1 & 4 & 130 & 131 & 0 & 0 & 115 & 1 & 1.2 & 2 & 1.0 & 7.0 & 3\\\\\n",
       "\t 57 & 0 & 2 & 130 & 236 & 0 & 2 & 174 & 0 & 0.0 & 2 & 1.0 & 3.0 & 1\\\\\n",
       "\t 38 & 1 & 3 & 138 & 175 & 0 & 0 & 173 & 0 & 0.0 & 1 & ?   & 3.0 & 0\\\\\n",
       "\\end{tabular}\n"
      ],
      "text/markdown": [
       "\n",
       "A tibble: 303 × 14\n",
       "\n",
       "| age &lt;dbl&gt; | sex &lt;fct&gt; | chest_pain_type &lt;fct&gt; | resting_blood_pressure &lt;dbl&gt; | cholesterol_level &lt;dbl&gt; | high_fasting_blood_sugar &lt;fct&gt; | resting_ecg_results &lt;fct&gt; | max_heart_rate &lt;dbl&gt; | exercise_induced_angina &lt;fct&gt; | ST_depression_induced_by_exercise &lt;dbl&gt; | slope_of_peak_exercise_ST_segment &lt;fct&gt; | num_blood_vessels_colored &lt;fct&gt; | thal &lt;fct&gt; | diagnosis_old &lt;dbl&gt; |\n",
       "|---|---|---|---|---|---|---|---|---|---|---|---|---|---|\n",
       "| 63 | 1 | 1 | 145 | 233 | 1 | 2 | 150 | 0 | 2.3 | 3 | 0.0 | 6.0 | 0 |\n",
       "| 67 | 1 | 4 | 160 | 286 | 0 | 2 | 108 | 1 | 1.5 | 2 | 3.0 | 3.0 | 2 |\n",
       "| 67 | 1 | 4 | 120 | 229 | 0 | 2 | 129 | 1 | 2.6 | 2 | 2.0 | 7.0 | 1 |\n",
       "| ⋮ | ⋮ | ⋮ | ⋮ | ⋮ | ⋮ | ⋮ | ⋮ | ⋮ | ⋮ | ⋮ | ⋮ | ⋮ | ⋮ |\n",
       "| 57 | 1 | 4 | 130 | 131 | 0 | 0 | 115 | 1 | 1.2 | 2 | 1.0 | 7.0 | 3 |\n",
       "| 57 | 0 | 2 | 130 | 236 | 0 | 2 | 174 | 0 | 0.0 | 2 | 1.0 | 3.0 | 1 |\n",
       "| 38 | 1 | 3 | 138 | 175 | 0 | 0 | 173 | 0 | 0.0 | 1 | ?   | 3.0 | 0 |\n",
       "\n"
      ],
      "text/plain": [
       "    age sex chest_pain_type resting_blood_pressure cholesterol_level\n",
       "1   63  1   1               145                    233              \n",
       "2   67  1   4               160                    286              \n",
       "3   67  1   4               120                    229              \n",
       "⋮   ⋮   ⋮   ⋮               ⋮                      ⋮                \n",
       "301 57  1   4               130                    131              \n",
       "302 57  0   2               130                    236              \n",
       "303 38  1   3               138                    175              \n",
       "    high_fasting_blood_sugar resting_ecg_results max_heart_rate\n",
       "1   1                        2                   150           \n",
       "2   0                        2                   108           \n",
       "3   0                        2                   129           \n",
       "⋮   ⋮                        ⋮                   ⋮             \n",
       "301 0                        0                   115           \n",
       "302 0                        2                   174           \n",
       "303 0                        0                   173           \n",
       "    exercise_induced_angina ST_depression_induced_by_exercise\n",
       "1   0                       2.3                              \n",
       "2   1                       1.5                              \n",
       "3   1                       2.6                              \n",
       "⋮   ⋮                       ⋮                                \n",
       "301 1                       1.2                              \n",
       "302 0                       0.0                              \n",
       "303 0                       0.0                              \n",
       "    slope_of_peak_exercise_ST_segment num_blood_vessels_colored thal\n",
       "1   3                                 0.0                       6.0 \n",
       "2   2                                 3.0                       3.0 \n",
       "3   2                                 2.0                       7.0 \n",
       "⋮   ⋮                                 ⋮                         ⋮   \n",
       "301 2                                 1.0                       7.0 \n",
       "302 2                                 1.0                       3.0 \n",
       "303 1                                 ?                         3.0 \n",
       "    diagnosis_old\n",
       "1   0            \n",
       "2   2            \n",
       "3   1            \n",
       "⋮   ⋮            \n",
       "301 3            \n",
       "302 1            \n",
       "303 0            "
      ]
     },
     "metadata": {},
     "output_type": "display_data"
    }
   ],
   "source": [
    "url <- \"https://archive.ics.uci.edu/ml/machine-learning-databases/heart-disease/processed.cleveland.data\"\n",
    "heart_disease_import <- read_csv(url, \n",
    "                               col_names=c(\"age\",\n",
    "                                           \"sex\",\n",
    "                                           \"chest_pain_type\",\n",
    "                                           \"resting_blood_pressure\",\n",
    "                                           \"cholesterol_level\",\n",
    "                                           \"high_fasting_blood_sugar\",\n",
    "                                           \"resting_ecg_results\",\n",
    "                                           \"max_heart_rate\",\n",
    "                                           \"exercise_induced_angina\",\n",
    "                                           \"ST_depression_induced_by_exercise\",\n",
    "                                           \"slope_of_peak_exercise_ST_segment\",\n",
    "                                           \"num_blood_vessels_colored\",\n",
    "                                           \"thal\",\n",
    "                                           \"diagnosis_old\"))\n",
    "\n",
    "mutated_heart_disease <- heart_disease_import |>\n",
    "                        mutate(sex = as_factor(sex)) |>\n",
    "                        mutate(chest_pain_type = as_factor(chest_pain_type)) |>\n",
    "                        mutate(high_fasting_blood_sugar = as_factor(high_fasting_blood_sugar)) |>\n",
    "                        mutate(resting_ecg_results = as_factor(resting_ecg_results)) |>\n",
    "                        mutate(exercise_induced_angina = as_factor(exercise_induced_angina)) |>\n",
    "                        mutate(slope_of_peak_exercise_ST_segment = as_factor(slope_of_peak_exercise_ST_segment)) |>\n",
    "                        mutate(num_blood_vessels_colored = as_factor(num_blood_vessels_colored)) |>\n",
    "                        mutate(thal = as_factor(thal))\n",
    "\n",
    "mutated_heart_disease"
   ]
  },
  {
   "cell_type": "markdown",
   "id": "7579ba0f-9287-46b7-a581-262884811e18",
   "metadata": {},
   "source": [
    "### Adding a New Diagnosis Column"
   ]
  },
  {
   "cell_type": "markdown",
   "id": "0f17270d-822c-4cf3-a2de-539d6fc20ace",
   "metadata": {},
   "source": [
    "Before continuing, we need to add a new diagnosis column, which we will do below. This is because the dataset's diagnosis column includes values from 0 to 4, but the website comments that all analyses done on the dataset only tried to detect the presence of heart disease, not the severity (which is indicated by the values between 1 and 4). Because of this, we will mutate a new column named \"diagnosis\" that has a 1 for every nonzero value in the old diagnosis column."
   ]
  },
  {
   "cell_type": "code",
   "execution_count": 3,
   "id": "659561a2-a9da-4f7a-ab2e-cfb1cebe5226",
   "metadata": {},
   "outputs": [
    {
     "data": {
      "text/html": [
       "<table class=\"dataframe\">\n",
       "<caption>A tibble: 303 × 15</caption>\n",
       "<thead>\n",
       "\t<tr><th scope=col>age</th><th scope=col>sex</th><th scope=col>chest_pain_type</th><th scope=col>resting_blood_pressure</th><th scope=col>cholesterol_level</th><th scope=col>high_fasting_blood_sugar</th><th scope=col>resting_ecg_results</th><th scope=col>max_heart_rate</th><th scope=col>exercise_induced_angina</th><th scope=col>ST_depression_induced_by_exercise</th><th scope=col>slope_of_peak_exercise_ST_segment</th><th scope=col>num_blood_vessels_colored</th><th scope=col>thal</th><th scope=col>diagnosis_old</th><th scope=col>diagnosis</th></tr>\n",
       "\t<tr><th scope=col>&lt;dbl&gt;</th><th scope=col>&lt;fct&gt;</th><th scope=col>&lt;fct&gt;</th><th scope=col>&lt;dbl&gt;</th><th scope=col>&lt;dbl&gt;</th><th scope=col>&lt;fct&gt;</th><th scope=col>&lt;fct&gt;</th><th scope=col>&lt;dbl&gt;</th><th scope=col>&lt;fct&gt;</th><th scope=col>&lt;dbl&gt;</th><th scope=col>&lt;fct&gt;</th><th scope=col>&lt;fct&gt;</th><th scope=col>&lt;fct&gt;</th><th scope=col>&lt;fct&gt;</th><th scope=col>&lt;fct&gt;</th></tr>\n",
       "</thead>\n",
       "<tbody>\n",
       "\t<tr><td>63</td><td>1</td><td>1</td><td>145</td><td>233</td><td>1</td><td>2</td><td>150</td><td>0</td><td>2.3</td><td>3</td><td>0.0</td><td>6.0</td><td>0</td><td>0</td></tr>\n",
       "\t<tr><td>67</td><td>1</td><td>4</td><td>160</td><td>286</td><td>0</td><td>2</td><td>108</td><td>1</td><td>1.5</td><td>2</td><td>3.0</td><td>3.0</td><td>2</td><td>1</td></tr>\n",
       "\t<tr><td>67</td><td>1</td><td>4</td><td>120</td><td>229</td><td>0</td><td>2</td><td>129</td><td>1</td><td>2.6</td><td>2</td><td>2.0</td><td>7.0</td><td>1</td><td>1</td></tr>\n",
       "\t<tr><td>⋮</td><td>⋮</td><td>⋮</td><td>⋮</td><td>⋮</td><td>⋮</td><td>⋮</td><td>⋮</td><td>⋮</td><td>⋮</td><td>⋮</td><td>⋮</td><td>⋮</td><td>⋮</td><td>⋮</td></tr>\n",
       "\t<tr><td>57</td><td>1</td><td>4</td><td>130</td><td>131</td><td>0</td><td>0</td><td>115</td><td>1</td><td>1.2</td><td>2</td><td>1.0</td><td>7.0</td><td>3</td><td>1</td></tr>\n",
       "\t<tr><td>57</td><td>0</td><td>2</td><td>130</td><td>236</td><td>0</td><td>2</td><td>174</td><td>0</td><td>0.0</td><td>2</td><td>1.0</td><td>3.0</td><td>1</td><td>1</td></tr>\n",
       "\t<tr><td>38</td><td>1</td><td>3</td><td>138</td><td>175</td><td>0</td><td>0</td><td>173</td><td>0</td><td>0.0</td><td>1</td><td>?  </td><td>3.0</td><td>0</td><td>0</td></tr>\n",
       "</tbody>\n",
       "</table>\n"
      ],
      "text/latex": [
       "A tibble: 303 × 15\n",
       "\\begin{tabular}{lllllllllllllll}\n",
       " age & sex & chest\\_pain\\_type & resting\\_blood\\_pressure & cholesterol\\_level & high\\_fasting\\_blood\\_sugar & resting\\_ecg\\_results & max\\_heart\\_rate & exercise\\_induced\\_angina & ST\\_depression\\_induced\\_by\\_exercise & slope\\_of\\_peak\\_exercise\\_ST\\_segment & num\\_blood\\_vessels\\_colored & thal & diagnosis\\_old & diagnosis\\\\\n",
       " <dbl> & <fct> & <fct> & <dbl> & <dbl> & <fct> & <fct> & <dbl> & <fct> & <dbl> & <fct> & <fct> & <fct> & <fct> & <fct>\\\\\n",
       "\\hline\n",
       "\t 63 & 1 & 1 & 145 & 233 & 1 & 2 & 150 & 0 & 2.3 & 3 & 0.0 & 6.0 & 0 & 0\\\\\n",
       "\t 67 & 1 & 4 & 160 & 286 & 0 & 2 & 108 & 1 & 1.5 & 2 & 3.0 & 3.0 & 2 & 1\\\\\n",
       "\t 67 & 1 & 4 & 120 & 229 & 0 & 2 & 129 & 1 & 2.6 & 2 & 2.0 & 7.0 & 1 & 1\\\\\n",
       "\t ⋮ & ⋮ & ⋮ & ⋮ & ⋮ & ⋮ & ⋮ & ⋮ & ⋮ & ⋮ & ⋮ & ⋮ & ⋮ & ⋮ & ⋮\\\\\n",
       "\t 57 & 1 & 4 & 130 & 131 & 0 & 0 & 115 & 1 & 1.2 & 2 & 1.0 & 7.0 & 3 & 1\\\\\n",
       "\t 57 & 0 & 2 & 130 & 236 & 0 & 2 & 174 & 0 & 0.0 & 2 & 1.0 & 3.0 & 1 & 1\\\\\n",
       "\t 38 & 1 & 3 & 138 & 175 & 0 & 0 & 173 & 0 & 0.0 & 1 & ?   & 3.0 & 0 & 0\\\\\n",
       "\\end{tabular}\n"
      ],
      "text/markdown": [
       "\n",
       "A tibble: 303 × 15\n",
       "\n",
       "| age &lt;dbl&gt; | sex &lt;fct&gt; | chest_pain_type &lt;fct&gt; | resting_blood_pressure &lt;dbl&gt; | cholesterol_level &lt;dbl&gt; | high_fasting_blood_sugar &lt;fct&gt; | resting_ecg_results &lt;fct&gt; | max_heart_rate &lt;dbl&gt; | exercise_induced_angina &lt;fct&gt; | ST_depression_induced_by_exercise &lt;dbl&gt; | slope_of_peak_exercise_ST_segment &lt;fct&gt; | num_blood_vessels_colored &lt;fct&gt; | thal &lt;fct&gt; | diagnosis_old &lt;fct&gt; | diagnosis &lt;fct&gt; |\n",
       "|---|---|---|---|---|---|---|---|---|---|---|---|---|---|---|\n",
       "| 63 | 1 | 1 | 145 | 233 | 1 | 2 | 150 | 0 | 2.3 | 3 | 0.0 | 6.0 | 0 | 0 |\n",
       "| 67 | 1 | 4 | 160 | 286 | 0 | 2 | 108 | 1 | 1.5 | 2 | 3.0 | 3.0 | 2 | 1 |\n",
       "| 67 | 1 | 4 | 120 | 229 | 0 | 2 | 129 | 1 | 2.6 | 2 | 2.0 | 7.0 | 1 | 1 |\n",
       "| ⋮ | ⋮ | ⋮ | ⋮ | ⋮ | ⋮ | ⋮ | ⋮ | ⋮ | ⋮ | ⋮ | ⋮ | ⋮ | ⋮ | ⋮ |\n",
       "| 57 | 1 | 4 | 130 | 131 | 0 | 0 | 115 | 1 | 1.2 | 2 | 1.0 | 7.0 | 3 | 1 |\n",
       "| 57 | 0 | 2 | 130 | 236 | 0 | 2 | 174 | 0 | 0.0 | 2 | 1.0 | 3.0 | 1 | 1 |\n",
       "| 38 | 1 | 3 | 138 | 175 | 0 | 0 | 173 | 0 | 0.0 | 1 | ?   | 3.0 | 0 | 0 |\n",
       "\n"
      ],
      "text/plain": [
       "    age sex chest_pain_type resting_blood_pressure cholesterol_level\n",
       "1   63  1   1               145                    233              \n",
       "2   67  1   4               160                    286              \n",
       "3   67  1   4               120                    229              \n",
       "⋮   ⋮   ⋮   ⋮               ⋮                      ⋮                \n",
       "301 57  1   4               130                    131              \n",
       "302 57  0   2               130                    236              \n",
       "303 38  1   3               138                    175              \n",
       "    high_fasting_blood_sugar resting_ecg_results max_heart_rate\n",
       "1   1                        2                   150           \n",
       "2   0                        2                   108           \n",
       "3   0                        2                   129           \n",
       "⋮   ⋮                        ⋮                   ⋮             \n",
       "301 0                        0                   115           \n",
       "302 0                        2                   174           \n",
       "303 0                        0                   173           \n",
       "    exercise_induced_angina ST_depression_induced_by_exercise\n",
       "1   0                       2.3                              \n",
       "2   1                       1.5                              \n",
       "3   1                       2.6                              \n",
       "⋮   ⋮                       ⋮                                \n",
       "301 1                       1.2                              \n",
       "302 0                       0.0                              \n",
       "303 0                       0.0                              \n",
       "    slope_of_peak_exercise_ST_segment num_blood_vessels_colored thal\n",
       "1   3                                 0.0                       6.0 \n",
       "2   2                                 3.0                       3.0 \n",
       "3   2                                 2.0                       7.0 \n",
       "⋮   ⋮                                 ⋮                         ⋮   \n",
       "301 2                                 1.0                       7.0 \n",
       "302 2                                 1.0                       3.0 \n",
       "303 1                                 ?                         3.0 \n",
       "    diagnosis_old diagnosis\n",
       "1   0             0        \n",
       "2   2             1        \n",
       "3   1             1        \n",
       "⋮   ⋮             ⋮        \n",
       "301 3             1        \n",
       "302 1             1        \n",
       "303 0             0        "
      ]
     },
     "metadata": {},
     "output_type": "display_data"
    }
   ],
   "source": [
    "heart_disease_data <- mutated_heart_disease |>\n",
    "                mutate(diagnosis= ifelse(diagnosis_old>0,1,0)) |>\n",
    "                mutate(diagnosis_old = as_factor(diagnosis_old)) |>\n",
    "                mutate(diagnosis = as_factor(diagnosis))\n",
    "heart_disease_data"
   ]
  },
  {
   "cell_type": "markdown",
   "id": "06ce200c-4ac0-4fc5-9127-312766dd2f8c",
   "metadata": {},
   "source": [
    "### Exploratory Data Analysis"
   ]
  },
  {
   "cell_type": "markdown",
   "id": "00f40605-80f9-4443-8cff-77071e9e6236",
   "metadata": {},
   "source": [
    "**NEED TO ADD THIS**"
   ]
  },
  {
   "cell_type": "markdown",
   "id": "b53d4958-39ee-4fe2-af20-7eee5fc83073",
   "metadata": {},
   "source": [
    "### DISTRIBUTION OF PREDICTOR VARIABLES"
   ]
  },
  {
   "cell_type": "markdown",
   "id": "28256052-b763-4f8f-9d96-4b019878ddbf",
   "metadata": {},
   "source": [
    "**I BELIEVE WE HAVE THIS IN OUR PROPOSAL?**"
   ]
  },
  {
   "cell_type": "markdown",
   "id": "5060f588-1efa-424f-9f52-d4b6c0efd253",
   "metadata": {},
   "source": [
    "### Splitting the Data"
   ]
  },
  {
   "cell_type": "markdown",
   "id": "ccd479b8-0c21-40b4-8a86-0320c213ddf3",
   "metadata": {},
   "source": [
    "We now split the data into training and testing sets, using a proportion of 0.75 so that our training set will contain 75% of the data points and our testing set will contain 25%. We will also be using set.seed() to ensure that our results are reproducible."
   ]
  },
  {
   "cell_type": "code",
   "execution_count": 4,
   "id": "51cfe255-a73d-49a9-bd68-1b93fac482e6",
   "metadata": {},
   "outputs": [],
   "source": [
    "set.seed(1000)\n",
    "\n",
    "heart_split <- initial_split(heart_disease_data, prop = 0.75, strata = diagnosis)\n",
    "heart_training <- training(heart_split)\n",
    "heart_testing <- testing(heart_split)"
   ]
  },
  {
   "cell_type": "markdown",
   "id": "9bd9b608-a273-464a-a976-4a74cba545ed",
   "metadata": {
    "tags": []
   },
   "source": [
    "### Creating the Recipe and Model"
   ]
  },
  {
   "cell_type": "markdown",
   "id": "995c2a18-98bd-4869-8cf0-03822189e7f1",
   "metadata": {},
   "source": [
    "We create a recipe to predict the diagnosis based on four different quantitative variables- age, maximum heart rate, cholesterol level and resting blood pressure. We standardize our data and set the mean of the variables equal to 0, & the standard deviation equal to 1. \n",
    "We will also create a k-nearest neighbors classification model using our training data, where we will tune our number of neighbors to find the best value of K. "
   ]
  },
  {
   "cell_type": "code",
   "execution_count": 5,
   "id": "73db36ac-717b-46f2-9632-fdd1285a3ca8",
   "metadata": {},
   "outputs": [
    {
     "data": {
      "text/plain": [
       "Recipe\n",
       "\n",
       "Inputs:\n",
       "\n",
       "      role #variables\n",
       "   outcome          1\n",
       " predictor          4\n",
       "\n",
       "Operations:\n",
       "\n",
       "Scaling for all_predictors()\n",
       "Centering for all_predictors()"
      ]
     },
     "metadata": {},
     "output_type": "display_data"
    },
    {
     "data": {
      "text/plain": [
       "K-Nearest Neighbor Model Specification (classification)\n",
       "\n",
       "Main Arguments:\n",
       "  neighbors = tune()\n",
       "  weight_func = rectangular\n",
       "\n",
       "Computational engine: kknn \n"
      ]
     },
     "metadata": {},
     "output_type": "display_data"
    }
   ],
   "source": [
    "heart_recipe <- recipe(diagnosis ~ age + max_heart_rate + cholesterol_level + resting_blood_pressure, data = heart_training) |>\n",
    "                step_scale(all_predictors()) |>\n",
    "                step_center(all_predictors())\n",
    "\n",
    "knn_spec <- nearest_neighbor(weight_func = \"rectangular\", neighbors = tune()) |>\n",
    "              set_engine(\"kknn\") |>\n",
    "              set_mode(\"classification\")\n",
    "\n",
    "\n",
    "heart_recipe\n",
    "knn_spec"
   ]
  },
  {
   "cell_type": "markdown",
   "id": "ff07a437-bfbc-47df-b70c-14a07fff6eaf",
   "metadata": {
    "tags": []
   },
   "source": [
    "### Performing Cross-Validation"
   ]
  },
  {
   "cell_type": "markdown",
   "id": "48135b91-bfba-4ae2-beec-a23ce8aaa67d",
   "metadata": {},
   "source": [
    "Now, we perform a 5-fold cross validation to determine the best value of K. We create a workflow with our recipe and model, and find the accuracy for different values of K. We finally determine the value of K with the largest accuracy. "
   ]
  },
  {
   "cell_type": "code",
   "execution_count": null,
   "id": "3b42791c-6a12-4372-b5d8-47a61f03e841",
   "metadata": {},
   "outputs": [],
   "source": [
    "set.seed(123)\n",
    "\n",
    "heart_vfold <- vfold_cv(heart_training, v = 5, strata = diagnosis)\n",
    "\n",
    "gridvals <- tibble (neighbors = seq(from = 1, to = 100, by = 2)) \n",
    "\n",
    "knn_results <- workflow() |>\n",
    "  add_recipe(heart_recipe) |>\n",
    "  add_model(knn_spec) |>\n",
    "  tune_grid(resamples = heart_vfold, grid = gridvals) |>\n",
    "  collect_metrics()"
   ]
  },
  {
   "cell_type": "markdown",
   "id": "c8f8b651-c191-48fb-b252-58236be3d5f3",
   "metadata": {},
   "source": [
    "### Visualizing Cross-Validation Results"
   ]
  },
  {
   "cell_type": "code",
   "execution_count": 10,
   "id": "5c8ee10a-f0f3-4993-9d1e-79c5d36f8fc8",
   "metadata": {},
   "outputs": [
    {
     "data": {
      "text/html": [
       "<table class=\"dataframe\">\n",
       "<caption>A tibble: 50 × 7</caption>\n",
       "<thead>\n",
       "\t<tr><th scope=col>neighbors</th><th scope=col>.metric</th><th scope=col>.estimator</th><th scope=col>mean</th><th scope=col>n</th><th scope=col>std_err</th><th scope=col>.config</th></tr>\n",
       "\t<tr><th scope=col>&lt;dbl&gt;</th><th scope=col>&lt;chr&gt;</th><th scope=col>&lt;chr&gt;</th><th scope=col>&lt;dbl&gt;</th><th scope=col>&lt;int&gt;</th><th scope=col>&lt;dbl&gt;</th><th scope=col>&lt;chr&gt;</th></tr>\n",
       "</thead>\n",
       "<tbody>\n",
       "\t<tr><td>37</td><td>accuracy</td><td>binary</td><td>0.7009135</td><td>5</td><td>0.02498389</td><td>Preprocessor1_Model19</td></tr>\n",
       "\t<tr><td>29</td><td>accuracy</td><td>binary</td><td>0.6922222</td><td>5</td><td>0.02412515</td><td>Preprocessor1_Model15</td></tr>\n",
       "\t<tr><td>33</td><td>accuracy</td><td>binary</td><td>0.6876768</td><td>5</td><td>0.01941270</td><td>Preprocessor1_Model17</td></tr>\n",
       "\t<tr><td>⋮</td><td>⋮</td><td>⋮</td><td>⋮</td><td>⋮</td><td>⋮</td><td>⋮</td></tr>\n",
       "\t<tr><td>5</td><td>accuracy</td><td>binary</td><td>0.6301757</td><td>5</td><td>0.012749967</td><td>Preprocessor1_Model03</td></tr>\n",
       "\t<tr><td>1</td><td>accuracy</td><td>binary</td><td>0.5814625</td><td>5</td><td>0.006497259</td><td>Preprocessor1_Model01</td></tr>\n",
       "\t<tr><td>3</td><td>accuracy</td><td>binary</td><td>0.5644752</td><td>5</td><td>0.035996296</td><td>Preprocessor1_Model02</td></tr>\n",
       "</tbody>\n",
       "</table>\n"
      ],
      "text/latex": [
       "A tibble: 50 × 7\n",
       "\\begin{tabular}{lllllll}\n",
       " neighbors & .metric & .estimator & mean & n & std\\_err & .config\\\\\n",
       " <dbl> & <chr> & <chr> & <dbl> & <int> & <dbl> & <chr>\\\\\n",
       "\\hline\n",
       "\t 37 & accuracy & binary & 0.7009135 & 5 & 0.02498389 & Preprocessor1\\_Model19\\\\\n",
       "\t 29 & accuracy & binary & 0.6922222 & 5 & 0.02412515 & Preprocessor1\\_Model15\\\\\n",
       "\t 33 & accuracy & binary & 0.6876768 & 5 & 0.01941270 & Preprocessor1\\_Model17\\\\\n",
       "\t ⋮ & ⋮ & ⋮ & ⋮ & ⋮ & ⋮ & ⋮\\\\\n",
       "\t 5 & accuracy & binary & 0.6301757 & 5 & 0.012749967 & Preprocessor1\\_Model03\\\\\n",
       "\t 1 & accuracy & binary & 0.5814625 & 5 & 0.006497259 & Preprocessor1\\_Model01\\\\\n",
       "\t 3 & accuracy & binary & 0.5644752 & 5 & 0.035996296 & Preprocessor1\\_Model02\\\\\n",
       "\\end{tabular}\n"
      ],
      "text/markdown": [
       "\n",
       "A tibble: 50 × 7\n",
       "\n",
       "| neighbors &lt;dbl&gt; | .metric &lt;chr&gt; | .estimator &lt;chr&gt; | mean &lt;dbl&gt; | n &lt;int&gt; | std_err &lt;dbl&gt; | .config &lt;chr&gt; |\n",
       "|---|---|---|---|---|---|---|\n",
       "| 37 | accuracy | binary | 0.7009135 | 5 | 0.02498389 | Preprocessor1_Model19 |\n",
       "| 29 | accuracy | binary | 0.6922222 | 5 | 0.02412515 | Preprocessor1_Model15 |\n",
       "| 33 | accuracy | binary | 0.6876768 | 5 | 0.01941270 | Preprocessor1_Model17 |\n",
       "| ⋮ | ⋮ | ⋮ | ⋮ | ⋮ | ⋮ | ⋮ |\n",
       "| 5 | accuracy | binary | 0.6301757 | 5 | 0.012749967 | Preprocessor1_Model03 |\n",
       "| 1 | accuracy | binary | 0.5814625 | 5 | 0.006497259 | Preprocessor1_Model01 |\n",
       "| 3 | accuracy | binary | 0.5644752 | 5 | 0.035996296 | Preprocessor1_Model02 |\n",
       "\n"
      ],
      "text/plain": [
       "   neighbors .metric  .estimator mean      n std_err     .config              \n",
       "1  37        accuracy binary     0.7009135 5 0.02498389  Preprocessor1_Model19\n",
       "2  29        accuracy binary     0.6922222 5 0.02412515  Preprocessor1_Model15\n",
       "3  33        accuracy binary     0.6876768 5 0.01941270  Preprocessor1_Model17\n",
       "⋮  ⋮         ⋮        ⋮          ⋮         ⋮ ⋮           ⋮                    \n",
       "48 5         accuracy binary     0.6301757 5 0.012749967 Preprocessor1_Model03\n",
       "49 1         accuracy binary     0.5814625 5 0.006497259 Preprocessor1_Model01\n",
       "50 3         accuracy binary     0.5644752 5 0.035996296 Preprocessor1_Model02"
      ]
     },
     "metadata": {},
     "output_type": "display_data"
    },
    {
     "data": {
      "text/html": [
       "37"
      ],
      "text/latex": [
       "37"
      ],
      "text/markdown": [
       "37"
      ],
      "text/plain": [
       "[1] 37"
      ]
     },
     "metadata": {},
     "output_type": "display_data"
    },
    {
     "data": {
      "image/png": "[encoded data removed]",
      "text/plain": [
       "plot without title"
      ]
     },
     "metadata": {
      "image/png": {
       "height": 420,
       "width": 420
      }
     },
     "output_type": "display_data"
    }
   ],
   "source": [
    "accuracies <- knn_results |>\n",
    "    filter(.metric == \"accuracy\") |>\n",
    "    arrange(desc(mean))\n",
    "\n",
    "cross_val_plot <- accuracies |> \n",
    "    ggplot(aes(x = neighbors, y = mean)) +\n",
    "    geom_point() +\n",
    "    geom_line() +\n",
    "    labs(x = \"Neighbors\", y = \"Accuracy Estimate\") +\n",
    "    theme(text = element_text(size = 20))\n",
    "\n",
    "k_best <- knn_results |>\n",
    "   filter(.metric == \"accuracy\") |>\n",
    "   arrange(.metric) |> \n",
    "   filter(mean == max(mean)) |>\n",
    "   pull(neighbors)\n",
    "\n",
    "cross_val_plot\n",
    "accuracies\n",
    "k_best"
   ]
  },
  {
   "cell_type": "markdown",
   "id": "34b32a96-ab9e-4c3c-897d-c193eb8b1878",
   "metadata": {},
   "source": [
    "We can see above that k = 37 yields the best accuracy, with an accuracy of around 70%, while nearby values of k drop to around 67%. k = 37 also exists within a sort of \"plateau\" in accuracy, near the center of other elevated accuracy values."
   ]
  },
  {
   "cell_type": "markdown",
   "id": "f327398a-2950-42b7-b174-349c6ed94572",
   "metadata": {},
   "source": [
    "## KNN Classification"
   ]
  },
  {
   "cell_type": "markdown",
   "id": "f3b612ef-815f-40bf-8e43-989b33fc22f5",
   "metadata": {},
   "source": [
    "Now that we have identified our best value of k, we can use it in a KNN Classification:"
   ]
  },
  {
   "cell_type": "code",
   "execution_count": 14,
   "id": "06d74c81-b944-4337-9e2e-01cf110cb5fe",
   "metadata": {},
   "outputs": [
    {
     "data": {
      "text/html": [
       "<table class=\"dataframe\">\n",
       "<caption>A tibble: 2 × 3</caption>\n",
       "<thead>\n",
       "\t<tr><th scope=col>.metric</th><th scope=col>.estimator</th><th scope=col>.estimate</th></tr>\n",
       "\t<tr><th scope=col>&lt;chr&gt;</th><th scope=col>&lt;chr&gt;</th><th scope=col>&lt;dbl&gt;</th></tr>\n",
       "</thead>\n",
       "<tbody>\n",
       "\t<tr><td>accuracy</td><td>binary</td><td>0.6447368</td></tr>\n",
       "\t<tr><td>kap     </td><td>binary</td><td>0.2835196</td></tr>\n",
       "</tbody>\n",
       "</table>\n"
      ],
      "text/latex": [
       "A tibble: 2 × 3\n",
       "\\begin{tabular}{lll}\n",
       " .metric & .estimator & .estimate\\\\\n",
       " <chr> & <chr> & <dbl>\\\\\n",
       "\\hline\n",
       "\t accuracy & binary & 0.6447368\\\\\n",
       "\t kap      & binary & 0.2835196\\\\\n",
       "\\end{tabular}\n"
      ],
      "text/markdown": [
       "\n",
       "A tibble: 2 × 3\n",
       "\n",
       "| .metric &lt;chr&gt; | .estimator &lt;chr&gt; | .estimate &lt;dbl&gt; |\n",
       "|---|---|---|\n",
       "| accuracy | binary | 0.6447368 |\n",
       "| kap      | binary | 0.2835196 |\n",
       "\n"
      ],
      "text/plain": [
       "  .metric  .estimator .estimate\n",
       "1 accuracy binary     0.6447368\n",
       "2 kap      binary     0.2835196"
      ]
     },
     "metadata": {},
     "output_type": "display_data"
    }
   ],
   "source": [
    "knn_best_spec <- nearest_neighbor(weight_func = \"rectangular\", neighbors = 37) |>\n",
    "              set_engine(\"kknn\") |>\n",
    "              set_mode(\"classification\")\n",
    "\n",
    "heart_disease_fit <- workflow() |>\n",
    "        add_recipe(heart_recipe) |>\n",
    "        add_model(knn_best_spec) |>\n",
    "        fit(data=heart_training)\n",
    "\n",
    "heart_predictions <- predict(heart_disease_fit, heart_testing) |>\n",
    "                     bind_cols(heart_testing)\n",
    "\n",
    "heart_metrics <- heart_predictions |>\n",
    "                metrics(truth=diagnosis,estimate=.pred_class)\n",
    "\n",
    "heart_metrics\n"
   ]
  },
  {
   "cell_type": "markdown",
   "id": "f370a7e8-40ae-4fed-a57c-7ca97311255e",
   "metadata": {},
   "source": [
    "## Discussion"
   ]
  },
  {
   "cell_type": "markdown",
   "id": "9918a408-ee61-440d-bacb-7d7c1091a507",
   "metadata": {},
   "source": []
  },
  {
   "cell_type": "markdown",
   "id": "75d84c03-2396-4bf6-8c38-060eb620411d",
   "metadata": {},
   "source": [
    "## References"
   ]
  },
  {
   "cell_type": "code",
   "execution_count": null,
   "id": "398bc37a-ce4e-4513-88f7-778d059196c6",
   "metadata": {},
   "outputs": [],
   "source": []
  }
 ],
 "metadata": {
  "kernelspec": {
   "display_name": "R",
   "language": "R",
   "name": "ir"
  },
  "language_info": {
   "codemirror_mode": "r",
   "file_extension": ".r",
   "mimetype": "text/x-r-source",
   "name": "R",
   "pygments_lexer": "r",
   "version": "4.1.3"
  }
 },
 "nbformat": 4,
 "nbformat_minor": 5
}
