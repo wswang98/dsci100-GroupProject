{
 "cells": [
  {
   "cell_type": "markdown",
   "id": "b9de3164-fe23-4bff-b311-2d32d721014f",
   "metadata": {},
   "source": [
    "# Predicting Presence of Heart Disease"
   ]
  },
  {
   "cell_type": "markdown",
   "id": "3fddf2a1-7a29-4dd2-9209-12f72c8cb000",
   "metadata": {},
   "source": [
    "## Introduction"
   ]
  },
  {
   "cell_type": "markdown",
   "id": "c1728d33-b30e-4063-a682-9bf36531e0c3",
   "metadata": {},
   "source": [
    "(intro here)"
   ]
  },
  {
   "cell_type": "markdown",
   "id": "fceb8dbd-c440-4fda-a61e-45d6988c0d52",
   "metadata": {},
   "source": [
    "## Method"
   ]
  },
  {
   "cell_type": "markdown",
   "id": "72ec6f28-b37b-4d8d-bdc3-28b1165660ef",
   "metadata": {},
   "source": [
    "(method here)"
   ]
  },
  {
   "cell_type": "markdown",
   "id": "f327398a-2950-42b7-b174-349c6ed94572",
   "metadata": {},
   "source": [
    "## Results"
   ]
  },
  {
   "cell_type": "markdown",
   "id": "f3b612ef-815f-40bf-8e43-989b33fc22f5",
   "metadata": {},
   "source": [
    "(results here)"
   ]
  },
  {
   "cell_type": "markdown",
   "id": "f370a7e8-40ae-4fed-a57c-7ca97311255e",
   "metadata": {},
   "source": [
    "## Discussion"
   ]
  },
  {
   "cell_type": "markdown",
   "id": "9918a408-ee61-440d-bacb-7d7c1091a507",
   "metadata": {},
   "source": [
    "(discussion)"
   ]
  },
  {
   "cell_type": "markdown",
   "id": "75d84c03-2396-4bf6-8c38-060eb620411d",
   "metadata": {},
   "source": [
    "## References"
   ]
  },
  {
   "cell_type": "code",
   "execution_count": null,
   "id": "398bc37a-ce4e-4513-88f7-778d059196c6",
   "metadata": {},
   "outputs": [],
   "source": []
  }
 ],
 "metadata": {
  "kernelspec": {
   "display_name": "R",
   "language": "R",
   "name": "ir"
  },
  "language_info": {
   "codemirror_mode": "r",
   "file_extension": ".r",
   "mimetype": "text/x-r-source",
   "name": "R",
   "pygments_lexer": "r",
   "version": "4.1.3"
  }
 },
 "nbformat": 4,
 "nbformat_minor": 5
}
